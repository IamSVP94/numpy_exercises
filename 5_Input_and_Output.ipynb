{
 "cells": [
  {
   "cell_type": "markdown",
   "metadata": {},
   "source": [
    "# Input and Output"
   ]
  },
  {
   "cell_type": "code",
   "execution_count": 1,
   "metadata": {},
   "outputs": [],
   "source": [
    "from __future__ import print_function\n",
    "import numpy as np"
   ]
  },
  {
   "cell_type": "code",
   "execution_count": 2,
   "metadata": {},
   "outputs": [],
   "source": [
    "author = \"kyubyong. https://github.com/Kyubyong/numpy_exercises\""
   ]
  },
  {
   "cell_type": "code",
   "execution_count": 3,
   "metadata": {},
   "outputs": [
    {
     "data": {
      "text/plain": [
       "'1.18.1'"
      ]
     },
     "execution_count": 3,
     "metadata": {},
     "output_type": "execute_result"
    }
   ],
   "source": [
    "np.__version__"
   ]
  },
  {
   "cell_type": "code",
   "execution_count": 4,
   "metadata": {},
   "outputs": [
    {
     "name": "stdout",
     "output_type": "stream",
     "text": [
      "2020-03-31\n"
     ]
    }
   ],
   "source": [
    "from datetime import date\n",
    "print(date.today())"
   ]
  },
  {
   "cell_type": "markdown",
   "metadata": {},
   "source": [
    "## NumPy binary files (NPY, NPZ)"
   ]
  },
  {
   "cell_type": "markdown",
   "metadata": {},
   "source": [
    "Q1. Save x into `temp.npy` and load it."
   ]
  },
  {
   "cell_type": "code",
   "execution_count": 7,
   "metadata": {},
   "outputs": [
    {
     "data": {
      "text/plain": [
       "True"
      ]
     },
     "execution_count": 7,
     "metadata": {},
     "output_type": "execute_result"
    }
   ],
   "source": [
    "x = np.arange(10)\n",
    "\n",
    "file_name = 'temp.npy' # задаем название файла, \n",
    "np.save(file_name, x) # сохраняет массив в двоичном файле формата npy.\n",
    "y = np.load(file_name) # загружает массивы из файлов формата .npy или .npz, а также pickle объектов и pickle файлов.\n",
    "\n",
    "np.array_equal(x,y) # вывод результата сравнения массивов"
   ]
  },
  {
   "cell_type": "markdown",
   "metadata": {},
   "source": [
    "Q2. Save x and y into a single file 'temp.npz' and load it."
   ]
  },
  {
   "cell_type": "code",
   "execution_count": 44,
   "metadata": {},
   "outputs": [
    {
     "name": "stdout",
     "output_type": "stream",
     "text": [
      "x:[0 1 2 3 4 5 6 7 8 9]\n",
      "y:[11 12 13 14 15 16 17 18 19]\n",
      "True\n",
      "True\n"
     ]
    }
   ],
   "source": [
    "x = np.arange(10)\n",
    "y = np.arange(11, 20)\n",
    "np.savez('temp.npz', x=x,y=y) # cохраняет нескольких массивов в несжатом .npz файле (в формате, похожем на словарь)\n",
    "\n",
    "z = np.load('temp.npz')\n",
    "for key in z:\n",
    "    print ('{}:{}'.format(key, z[key]))\n",
    "\n",
    "print(np.array_equal(x, z['x'])) # вывод результата сравнения массивов по форме и элементам\n",
    "print(np.array_equal(y, z['y'])) # вывод результата сравнения массивов по форме и элементам"
   ]
  },
  {
   "cell_type": "markdown",
   "metadata": {},
   "source": [
    "## Text files"
   ]
  },
  {
   "cell_type": "markdown",
   "metadata": {},
   "source": [
    "Q3. Save x to 'temp.txt' in string format and load it."
   ]
  },
  {
   "cell_type": "code",
   "execution_count": 57,
   "metadata": {},
   "outputs": [
    {
     "data": {
      "text/plain": [
       "array([[0., 1., 2., 3., 4.],\n",
       "       [5., 6., 7., 8., 9.]])"
      ]
     },
     "execution_count": 57,
     "metadata": {},
     "output_type": "execute_result"
    }
   ],
   "source": [
    "x = np.arange(10).reshape(2, 5)\n",
    "header = 'num1 num2 num3 num4 num5'\n",
    "np.savetxt('temp.txt',x) # сохраняет массив в текстовый файл (1 или 2-х мерный массив NumPy или подобный массиву объект)\n",
    "np.loadtxt('temp.txt') # выводит массив из текстового файла"
   ]
  },
  {
   "cell_type": "markdown",
   "metadata": {},
   "source": [
    "Q4. Save `x`, `y`, and `z` to 'temp.txt' in string format line by line, then load it."
   ]
  },
  {
   "cell_type": "code",
   "execution_count": 72,
   "metadata": {},
   "outputs": [
    {
     "data": {
      "text/plain": [
       "(array([[ 0.,  1.,  2.,  3.,  4.,  5.,  6.,  7.,  8.,  9.],\n",
       "        [11., 12., 13., 14., 15., 16., 17., 18., 19., 20.],\n",
       "        [22., 23., 24., 25., 26., 27., 28., 29., 30., 31.]]),\n",
       " array([0., 1., 2., 3., 4., 5., 6., 7., 8., 9.]))"
      ]
     },
     "execution_count": 72,
     "metadata": {},
     "output_type": "execute_result"
    }
   ],
   "source": [
    "x = np.arange(10)\n",
    "y = np.arange(11, 21)\n",
    "z = np.arange(22, 32)\n",
    "np.savetxt('temp.txt',(x,y,z)) # сохраняет массивы в текстовый файл, каждый с новой строки\n",
    "file = np.loadtxt('temp.txt') # выводит массив из текстового файла\n",
    "file, file[0] # можно обращаться к опред. элементу массива через индекс"
   ]
  },
  {
   "cell_type": "markdown",
   "metadata": {},
   "source": [
    "Q5. Convert `x` into bytes, and load it as array."
   ]
  },
  {
   "cell_type": "code",
   "execution_count": 97,
   "metadata": {},
   "outputs": [
    {
     "name": "stdout",
     "output_type": "stream",
     "text": [
      "b'\\x01\\x00\\x00\\x00\\x02\\x00\\x00\\x00\\x03\\x00\\x00\\x00\\x04\\x00\\x00\\x00'\n",
      "True\n"
     ]
    }
   ],
   "source": [
    "x = np.array([1, 2, 3, 4])\n",
    "x_bytes = x.tostring() # конвертация массива в побайтовую строку\n",
    "print(x_bytes)\n",
    "x2 = np.frombuffer(x_bytes, dtype=x.dtype) # интерпретирует буфер как одномерный массив (dtype=int)\n",
    "print(np.array_equal(x,x2))"
   ]
  },
  {
   "cell_type": "markdown",
   "metadata": {},
   "source": [
    "Q6. Convert `a` into an ndarray and then convert it into a list again."
   ]
  },
  {
   "cell_type": "code",
   "execution_count": 134,
   "metadata": {},
   "outputs": [
    {
     "name": "stdout",
     "output_type": "stream",
     "text": [
      "True\n"
     ]
    }
   ],
   "source": [
    "a = [[1, 2], [3, 4]]\n",
    "x = np.array(a) # создание ndarray из данного списка\n",
    "a2 = x.tolist() # преобразует массив NumPy в список Python\n",
    "print(a==a2)"
   ]
  },
  {
   "cell_type": "markdown",
   "metadata": {},
   "source": [
    "## String formatting"
   ]
  },
  {
   "cell_type": "markdown",
   "metadata": {},
   "source": [
    "Q7. Convert `x` to a string, and revert it."
   ]
  },
  {
   "cell_type": "code",
   "execution_count": 154,
   "metadata": {},
   "outputs": [
    {
     "data": {
      "text/plain": [
       "array([[0, 1, 2, 3, 4],\n",
       "       [5, 6, 7, 8, 9]])"
      ]
     },
     "execution_count": 154,
     "metadata": {},
     "output_type": "execute_result"
    }
   ],
   "source": [
    "x = np.arange(10).reshape(2,5)\n",
    "x_str = str(x) # преобразуем массив в строку\n",
    "# print(x_str, \"\\n\", type(x_str))\n",
    "\n",
    "x_str = x_str.replace('[','').replace(']','') # [] убираем из строки\n",
    "x2 = np.fromstring(x_str, dtype=x.dtype, sep=\" \") # создает новый одномерный массив, который заполнен данными из указанной строки\n",
    "x2.reshape(x.shape) # предаём форму исходного массива"
   ]
  },
  {
   "cell_type": "markdown",
   "metadata": {},
   "source": [
    "## Text formatting options"
   ]
  },
  {
   "cell_type": "markdown",
   "metadata": {},
   "source": [
    "Q8. Print `x` such that all elements are displayed with precision=1, no suppress."
   ]
  },
  {
   "cell_type": "code",
   "execution_count": 182,
   "metadata": {},
   "outputs": [
    {
     "name": "stdout",
     "output_type": "stream",
     "text": [
      "размерность :(10, 100) \n",
      "массив[[0.8 0.7 0.8 0.4 0.8 0.6 0.5 0.1 0.7 0.4 0.8 0.1 0.4 0.5 0.4 0.4 0.6 0.6\n",
      "  0.2 0.9 0.8 0.5 0.6 0.5 0.1 0.7 0.9 0.8 0.2 0.8 0.6 0.4 0.7 0.8 0.8 0.7\n",
      "  0.7 0.9 0.9 0.9 0.  0.3 0.1 0.6 0.6 0.2 0.8 0.6 0.2 0.3 0.4 0.2 0.  0.3\n",
      "  0.2 0.4 0.4 0.8 0.4 0.1 0.7 0.4 0.6 0.2 0.  0.4 0.6 0.1 0.2 0.2 0.6 0.8\n",
      "  0.  0.2 0.9 0.2 0.8 0.2 0.  0.9 0.5 0.6 0.  0.5 0.8 0.4 0.5 0.4 0.5 0.8\n",
      "  0.1 0.8 0.8 0.7 0.1 0.4 0.6 0.7 0.4 0.3]\n",
      " [0.  1.  0.2 0.9 0.3 0.9 0.6 0.7 0.5 0.4 0.1 0.3 0.3 0.6 0.1 0.5 0.2 0.7\n",
      "  0.6 0.6 0.3 0.4 0.6 0.2 0.5 0.4 0.4 0.7 0.4 0.7 0.9 0.6 0.6 0.3 0.4 0.7\n",
      "  0.3 0.4 0.9 1.  0.7 0.3 0.1 0.8 1.  0.9 0.2 0.8 0.4 0.9 0.7 0.4 0.5 0.2\n",
      "  0.3 0.1 0.1 0.9 0.7 0.3 0.9 0.4 0.9 0.1 0.6 0.9 0.8 0.4 0.4 0.7 0.4 0.3\n",
      "  1.  0.6 0.9 0.6 0.5 0.5 0.2 0.5 0.4 0.5 0.4 0.7 0.9 0.9 0.1 0.9 0.1 0.2\n",
      "  0.1 0.9 0.6 0.6 0.7 0.5 0.9 0.1 0.2 0.3]\n",
      " [0.5 0.2 0.5 0.8 0.7 0.9 1.  0.2 0.1 0.6 0.5 0.8 0.6 0.1 0.8 0.5 0.6 0.1\n",
      "  0.5 0.3 0.1 1.  1.  1.  0.2 0.2 0.2 0.7 0.8 1.  0.6 0.5 0.2 0.2 0.8 0.\n",
      "  0.1 0.8 0.4 0.  0.7 0.4 0.9 0.5 1.  0.8 0.1 0.4 0.2 0.  0.5 0.2 0.3 0.5\n",
      "  1.  0.9 0.7 0.5 0.  0.2 0.6 0.4 0.4 0.3 1.  0.5 0.5 0.8 0.6 0.6 0.7 0.5\n",
      "  0.5 0.1 0.  0.3 0.9 0.7 0.2 0.7 0.6 0.8 0.1 0.4 0.1 0.1 0.3 0.6 0.3 0.1\n",
      "  0.1 0.6 0.1 0.1 0.4 0.6 0.7 0.5 0.8 0.2]\n",
      " [0.4 0.8 0.2 0.4 0.4 0.5 0.3 0.3 0.4 0.6 0.7 0.5 0.4 0.  0.7 0.9 0.4 0.9\n",
      "  0.  0.6 0.  0.7 0.  0.9 0.2 0.4 0.1 0.4 0.1 1.  0.4 0.3 0.8 0.  0.5 0.\n",
      "  0.1 0.9 0.1 0.1 0.3 0.9 0.3 0.9 0.  0.8 1.  1.  0.2 0.4 0.7 0.3 0.7 0.7\n",
      "  0.3 0.5 0.1 0.7 0.2 0.9 0.7 0.6 0.9 0.7 0.2 0.2 1.  0.1 0.1 0.9 0.5 0.1\n",
      "  0.  0.5 0.6 0.4 1.  0.  0.4 0.9 0.9 0.7 1.  1.  0.8 0.8 0.1 0.  0.6 0.1\n",
      "  0.2 0.6 0.4 0.3 0.8 0.1 0.9 0.8 0.3 0.5]\n",
      " [0.7 0.4 0.5 0.6 0.6 0.  1.  0.9 0.7 0.8 0.6 0.2 1.  0.3 0.5 0.6 0.5 0.8\n",
      "  0.7 0.6 0.6 0.1 0.9 1.  0.3 0.1 0.2 0.2 0.7 0.8 0.9 0.5 0.5 0.6 0.  0.3\n",
      "  0.1 0.2 0.1 0.7 0.5 0.2 0.8 0.2 0.1 0.3 0.7 1.  1.  0.4 0.  0.6 0.2 0.5\n",
      "  0.3 0.7 1.  0.6 0.5 0.7 0.2 0.6 0.3 0.4 0.8 0.9 0.9 0.2 0.7 0.9 0.9 0.1\n",
      "  0.2 0.1 0.2 0.7 0.8 0.8 0.9 0.3 0.2 0.6 0.5 1.  0.4 0.6 0.7 0.1 0.8 0.1\n",
      "  0.5 0.  0.2 0.5 0.6 0.6 0.7 0.5 0.  0. ]\n",
      " [0.5 0.8 0.5 0.4 0.1 0.8 1.  0.9 0.7 0.8 0.8 0.2 0.6 0.3 0.6 0.9 0.6 0.7\n",
      "  0.5 0.6 0.8 0.1 0.4 0.8 0.5 0.5 0.2 0.2 0.7 1.  0.7 0.1 0.6 0.9 0.7 0.6\n",
      "  0.1 0.4 0.6 0.6 1.  0.8 0.6 0.4 0.3 0.6 0.9 0.4 0.6 0.5 0.1 0.9 0.6 1.\n",
      "  0.7 0.8 0.4 0.6 0.5 0.6 0.3 0.8 0.5 1.  0.1 0.3 0.  0.2 0.9 0.1 0.4 0.6\n",
      "  0.3 0.3 0.4 0.4 0.7 0.3 0.8 0.6 0.2 0.  0.8 0.6 0.1 0.3 0.3 0.  0.2 0.6\n",
      "  0.8 0.5 0.4 0.3 0.  0.4 0.1 0.2 0.5 0.6]\n",
      " [0.7 0.4 0.9 0.5 0.7 0.5 0.3 0.5 0.4 0.1 0.9 0.2 0.2 0.4 0.6 0.5 0.5 0.7\n",
      "  0.7 0.2 0.5 0.7 0.9 0.8 1.  0.3 0.7 0.8 0.6 0.5 0.5 0.9 0.7 0.8 0.8 0.4\n",
      "  0.7 0.9 0.9 0.9 1.  0.7 0.5 0.8 0.7 0.1 0.9 0.7 0.3 0.  0.4 0.9 0.6 0.9\n",
      "  0.6 0.9 0.9 0.8 0.6 0.4 0.2 0.4 0.2 0.3 0.5 0.4 0.1 0.2 0.6 0.5 0.4 0.5\n",
      "  0.9 0.5 0.3 0.3 0.  0.2 0.8 0.9 0.5 0.9 0.5 0.8 0.3 0.8 0.7 0.7 0.2 1.\n",
      "  0.2 0.7 0.4 0.7 0.3 0.5 0.8 0.7 0.  0.4]\n",
      " [0.4 0.7 0.7 0.1 0.4 0.6 1.  0.  0.4 0.7 0.5 0.3 0.3 0.9 0.1 0.7 0.2 0.3\n",
      "  0.8 0.3 0.2 0.9 0.8 0.4 0.3 0.5 0.7 0.3 0.2 0.6 0.4 0.8 0.4 0.9 0.  0.8\n",
      "  1.  0.8 0.4 0.6 0.9 0.3 0.3 1.  0.2 0.6 0.8 0.7 0.4 0.1 0.2 0.5 0.9 0.2\n",
      "  0.1 0.5 0.2 0.3 0.6 0.7 0.4 1.  0.4 0.2 0.9 0.5 0.9 1.  0.9 0.3 0.2 0.3\n",
      "  0.7 0.1 0.8 0.1 0.5 0.5 0.6 0.6 0.6 0.9 0.3 0.2 0.9 0.  0.9 0.4 0.1 0.6\n",
      "  0.6 0.2 0.7 1.  0.9 0.9 0.1 0.4 0.1 0.4]\n",
      " [0.6 0.  0.7 0.1 0.9 0.8 0.1 0.4 0.5 0.1 0.8 0.2 0.2 0.5 0.1 1.  0.2 0.8\n",
      "  0.1 0.3 0.1 0.6 0.5 0.2 0.7 0.8 0.2 0.2 0.6 0.6 0.7 0.7 0.7 0.3 0.9 0.7\n",
      "  0.9 0.4 0.1 0.3 0.2 0.2 0.2 0.4 0.5 0.9 0.4 0.2 0.3 0.  0.5 0.9 0.6 0.3\n",
      "  0.5 0.6 0.1 0.5 0.9 0.8 0.7 1.  0.4 0.8 0.8 0.4 1.  0.1 0.5 0.2 1.  0.7\n",
      "  0.9 1.  0.2 0.5 0.  0.4 0.4 0.7 0.6 0.6 0.9 0.7 0.9 0.7 0.3 0.  0.1 0.7\n",
      "  0.2 0.5 0.7 0.2 0.  0.5 0.5 0.5 0.5 0.4]\n",
      " [0.7 0.5 0.2 0.2 0.2 0.2 0.7 0.9 0.7 0.4 0.7 0.  0.8 0.2 0.7 0.2 0.7 1.\n",
      "  1.  0.1 0.7 0.4 0.5 0.2 0.2 0.4 0.3 0.2 0.8 0.6 0.1 0.2 0.9 0.2 0.5 0.3\n",
      "  1.  0.5 0.3 0.5 0.9 0.  0.3 0.  0.1 0.  0.9 0.8 0.1 0.3 0.3 0.9 0.3 0.3\n",
      "  0.2 0.7 0.7 0.7 0.4 0.2 0.5 0.4 0.7 0.3 0.7 0.1 0.2 0.3 0.4 0.3 1.  0.2\n",
      "  0.8 0.2 0.5 0.5 0.8 0.8 0.9 0.1 0.4 0.3 0.1 0.6 0.9 0.4 0.3 0.9 0.1 0.5\n",
      "  0.5 0.9 1.  1.  0.1 0.8 0.6 0.9 0.5 0.9]]\n"
     ]
    }
   ],
   "source": [
    "x = np.random.uniform(size=[10,100]) # создание массива указанной размерности с выборкой из равномерного распределения\n",
    "np.set_printoptions(precision=1, suppress=True) # позволяет настроить параметры вывода массивов на экран (\"precision\"-кол-во знаков после запятой; \"suppress\"-показывать полотно целиком или скрывать)\n",
    "print('размерность :{} \\nмассив{}'.format(x.shape,x))"
   ]
  },
  {
   "cell_type": "markdown",
   "metadata": {},
   "source": [
    "## Base-n representations"
   ]
  },
  {
   "cell_type": "markdown",
   "metadata": {},
   "source": [
    "Q9. Convert 12 into a binary number in string format."
   ]
  },
  {
   "cell_type": "code",
   "execution_count": 210,
   "metadata": {},
   "outputs": [
    {
     "data": {
      "text/plain": [
       "'1100'"
      ]
     },
     "execution_count": 210,
     "metadata": {},
     "output_type": "execute_result"
    }
   ],
   "source": [
    "bin(12)[2:] # вывод 10-чного числа в бинарном формате"
   ]
  },
  {
   "cell_type": "markdown",
   "metadata": {},
   "source": [
    "Q10. Convert 12 into a hexadecimal number in string format."
   ]
  },
  {
   "cell_type": "code",
   "execution_count": 211,
   "metadata": {},
   "outputs": [
    {
     "data": {
      "text/plain": [
       "'c'"
      ]
     },
     "execution_count": 211,
     "metadata": {},
     "output_type": "execute_result"
    }
   ],
   "source": [
    "hex(12)[2:] # вывод 10-ичного числа в 16-ричном формате"
   ]
  }
 ],
 "metadata": {
  "anaconda-cloud": {},
  "kernelspec": {
   "display_name": "Python 3",
   "language": "python",
   "name": "python3"
  },
  "language_info": {
   "codemirror_mode": {
    "name": "ipython",
    "version": 3
   },
   "file_extension": ".py",
   "mimetype": "text/x-python",
   "name": "python",
   "nbconvert_exporter": "python",
   "pygments_lexer": "ipython3",
   "version": "3.7.7"
  },
  "toc": {
   "base_numbering": 1,
   "nav_menu": {},
   "number_sections": true,
   "sideBar": true,
   "skip_h1_title": false,
   "title_cell": "",
   "title_sidebar": "Навигация",
   "toc_cell": false,
   "toc_position": {},
   "toc_section_display": true,
   "toc_window_display": true
  }
 },
 "nbformat": 4,
 "nbformat_minor": 1
}
