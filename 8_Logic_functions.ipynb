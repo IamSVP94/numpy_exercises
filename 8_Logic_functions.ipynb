{
 "cells": [
  {
   "cell_type": "markdown",
   "metadata": {},
   "source": [
    "# Logic functions"
   ]
  },
  {
   "cell_type": "code",
   "execution_count": 3,
   "metadata": {},
   "outputs": [],
   "source": [
    "import numpy as np"
   ]
  },
  {
   "cell_type": "code",
   "execution_count": 4,
   "metadata": {},
   "outputs": [
    {
     "data": {
      "text/plain": [
       "'1.18.1'"
      ]
     },
     "execution_count": 4,
     "metadata": {},
     "output_type": "execute_result"
    }
   ],
   "source": [
    "np.__version__"
   ]
  },
  {
   "cell_type": "markdown",
   "metadata": {},
   "source": [
    "## Truth value testing\n"
   ]
  },
  {
   "cell_type": "markdown",
   "metadata": {},
   "source": [
    "Q1. Let x be an arbitrary array. Return True if none of the elements of x is zero. Remind that 0 evaluates to False in python.\n"
   ]
  },
  {
   "cell_type": "code",
   "execution_count": 6,
   "metadata": {},
   "outputs": [
    {
     "name": "stdout",
     "output_type": "stream",
     "text": [
      "True\n",
      "False\n"
     ]
    }
   ],
   "source": [
    "x = np.array([1,2,3]) \n",
    "print(np.all(x)) # проверка элементов вдоль 1 оси, на значение True (True если ни одного False)\n",
    "x = np.array([1,0,3])\n",
    "print(np.all(x)) # проверка элементов вдоль 1 оси, на значение True (True если ни одного False)"
   ]
  },
  {
   "cell_type": "markdown",
   "metadata": {},
   "source": [
    "Q2. Let x be an arbitrary array. Return True if any of the elements of x is non-zero."
   ]
  },
  {
   "cell_type": "code",
   "execution_count": 8,
   "metadata": {},
   "outputs": [
    {
     "name": "stdout",
     "output_type": "stream",
     "text": [
      "True\n",
      "False\n"
     ]
    }
   ],
   "source": [
    "x = np.array([1,0,0])\n",
    "print(np.any(x)) # проверка элементов вдоль 1 оси, на значение True (True если хоть 1 True)\n",
    "x = np.array([0,0,0])\n",
    "print(np.any(x)) # проверка элементов вдоль 1 оси, на значение True (True если хоть 1 True)"
   ]
  },
  {
   "cell_type": "markdown",
   "metadata": {},
   "source": [
    "## Array contents\n"
   ]
  },
  {
   "cell_type": "markdown",
   "metadata": {},
   "source": [
    "Q3. Predict the result of the following code."
   ]
  },
  {
   "cell_type": "code",
   "execution_count": 13,
   "metadata": {},
   "outputs": [
    {
     "name": "stdout",
     "output_type": "stream",
     "text": [
      "[ True  True False False]\n"
     ]
    }
   ],
   "source": [
    "x = np.array([1, 0, np.nan, np.inf])\n",
    "print(np.isfinite(x)) # поэлементная проверка на конечность (не бесконечность или не число)."
   ]
  },
  {
   "cell_type": "markdown",
   "metadata": {},
   "source": [
    "Q4. Predict the result of the following code."
   ]
  },
  {
   "cell_type": "code",
   "execution_count": 15,
   "metadata": {},
   "outputs": [
    {
     "name": "stdout",
     "output_type": "stream",
     "text": [
      "[False False False  True]\n"
     ]
    }
   ],
   "source": [
    "x = np.array([1, 0, np.nan, np.inf])\n",
    "print(np.isinf(x)) # поэлементная проверка на полож или отриц. бесконечность (True если бесконечность)"
   ]
  },
  {
   "cell_type": "markdown",
   "metadata": {},
   "source": [
    "Q5. Predict the result of the following code."
   ]
  },
  {
   "cell_type": "code",
   "execution_count": 72,
   "metadata": {},
   "outputs": [
    {
     "name": "stdout",
     "output_type": "stream",
     "text": [
      "[False False  True False]\n"
     ]
    }
   ],
   "source": [
    "x = np.array([1, 0, np.nan, np.inf])\n",
    "print(np.isnan(x)) # поэлементная проверка на nan-пустоту (0 не считается)"
   ]
  },
  {
   "cell_type": "markdown",
   "metadata": {},
   "source": [
    "## Array type testing"
   ]
  },
  {
   "cell_type": "markdown",
   "metadata": {},
   "source": [
    "Q6. Predict the result of the following code."
   ]
  },
  {
   "cell_type": "code",
   "execution_count": 73,
   "metadata": {},
   "outputs": [
    {
     "name": "stdout",
     "output_type": "stream",
     "text": [
      "[ True False False False False  True]\n"
     ]
    }
   ],
   "source": [
    "x = np.array([1+1j, 1+0j, 4.5, 3, 2, 2j]) # поэлементная проверка чисел на комплексность (коэф. мнимой части 0 или нет)\n",
    "print(np.iscomplex(x))"
   ]
  },
  {
   "cell_type": "markdown",
   "metadata": {},
   "source": [
    "Q7. Predict the result of the following code."
   ]
  },
  {
   "cell_type": "code",
   "execution_count": 74,
   "metadata": {},
   "outputs": [
    {
     "name": "stdout",
     "output_type": "stream",
     "text": [
      "[False  True  True  True  True False]\n"
     ]
    }
   ],
   "source": [
    "x = np.array([1+1j, 1+0j, 4.5, 3, 2, 2j]) # поэлементная проверка чисел на отсутствие комплексности (коэф. мнимой части 0 или нет)\n",
    "print(np.isreal(x))"
   ]
  },
  {
   "cell_type": "markdown",
   "metadata": {},
   "source": [
    "Q8. Predict the result of the following code."
   ]
  },
  {
   "cell_type": "code",
   "execution_count": 75,
   "metadata": {},
   "outputs": [
    {
     "name": "stdout",
     "output_type": "stream",
     "text": [
      "True <class 'int'>\n",
      "False <class 'list'>\n",
      "True <class 'bool'>\n",
      "True <class 'str'>\n",
      "False <class 'numpy.ndarray'>\n"
     ]
    }
   ],
   "source": [
    "x = 3\n",
    "y = [3]\n",
    "z = True\n",
    "q = 'строка'\n",
    "a = np.arange(10)\n",
    "print(np.isscalar(x), type(x)) # поэлементная проверка типа переменной на скалярность\n",
    "print(np.isscalar(y), type(y)) # поэлементная проверка типа переменной на скалярность\n",
    "print(np.isscalar(z), type(z)) # поэлементная проверка типа переменной на скалярность\n",
    "print(np.isscalar(q), type(q)) # поэлементная проверка типа переменной на скалярность\n",
    "print(np.isscalar(a), type(a)) # поэлементная проверка типа переменной на скалярность"
   ]
  },
  {
   "cell_type": "markdown",
   "metadata": {},
   "source": [
    "## Logical operations"
   ]
  },
  {
   "cell_type": "markdown",
   "metadata": {},
   "source": [
    "Q9. Predict the result of the following code."
   ]
  },
  {
   "cell_type": "code",
   "execution_count": 76,
   "metadata": {},
   "outputs": [
    {
     "name": "stdout",
     "output_type": "stream",
     "text": [
      "[ True False False]\n",
      "[ True False  True]\n",
      "[False False  True]\n",
      "[False  True  True False]\n"
     ]
    }
   ],
   "source": [
    "x = [True, False, True]\n",
    "y = [True, False, False]\n",
    "print(np.logical_and(x,y)) # поэлементное сравнение 2х элементов (логич И)\n",
    "print(np.logical_or(x,y)) # поэлементное сравнение 2х элементов (логич ИЛИ)\n",
    "print(np.logical_xor(x,y)) # поэлементное сравнение 2х элементов (логич исключ. ИЛИ (сложение по модулю 2) )\n",
    "print(np.logical_not([True, False, 0, 1])) # логическая инверсия"
   ]
  },
  {
   "cell_type": "markdown",
   "metadata": {},
   "source": [
    "## Comparison"
   ]
  },
  {
   "cell_type": "markdown",
   "metadata": {},
   "source": [
    "Q10. Predict the result of the following code."
   ]
  },
  {
   "cell_type": "code",
   "execution_count": 83,
   "metadata": {},
   "outputs": [
    {
     "name": "stdout",
     "output_type": "stream",
     "text": [
      "True\n",
      "False\n"
     ]
    }
   ],
   "source": [
    "x=[3]\n",
    "y=[2.9999999]\n",
    "print(np.allclose(x,y,0.01)) # проверка на схожесть с опред. точностью\n",
    "print(np.array_equal(x,y)) # проверка на абсолютную схожесть"
   ]
  },
  {
   "cell_type": "markdown",
   "metadata": {},
   "source": [
    "Q11. Write numpy comparison functions such that they return the results as you see."
   ]
  },
  {
   "cell_type": "code",
   "execution_count": 96,
   "metadata": {},
   "outputs": [
    {
     "name": "stdout",
     "output_type": "stream",
     "text": [
      "[ True False]\n",
      "[ True  True]\n",
      "[False False]\n",
      "[False  True]\n"
     ]
    }
   ],
   "source": [
    "x = np.array([4, 5])\n",
    "y = np.array([2, 5])\n",
    "print(np.greater(x,y)) # поэлементное сравнение массивов (True если эл.Х > эл.У \"строго больше\")\n",
    "print(np.greater_equal(x,y)) # поэлементное сравнение массивов (True если эл.Х >= эл.У \"больше либо равно\")\n",
    "print(np.less(x,y)) # поэлементное сравнение массивов (True если эл.Х < эл.У \"строго меньше\")\n",
    "print(np.less_equal(x,y)) # поэлементное сравнение массивов (True если эл.Х <= эл.У \"меньше либо равно\")"
   ]
  },
  {
   "cell_type": "markdown",
   "metadata": {},
   "source": [
    "Q12. Predict the result of the following code."
   ]
  },
  {
   "cell_type": "code",
   "execution_count": 101,
   "metadata": {},
   "outputs": [
    {
     "name": "stdout",
     "output_type": "stream",
     "text": [
      "[ True False]\n",
      "[ True  True]\n"
     ]
    }
   ],
   "source": [
    "print(np.equal([1, 2], [1, 2.000001])) # поэлементное сравнение массивов на абсолютное совпадение\n",
    "print(np.isclose([1, 2], [1, 2.000001])) # поэлементное сравнение массивов (уровень допущения больше единицы)"
   ]
  }
 ],
 "metadata": {
  "kernelspec": {
   "display_name": "Python 3",
   "language": "python",
   "name": "python3"
  },
  "language_info": {
   "codemirror_mode": {
    "name": "ipython",
    "version": 3
   },
   "file_extension": ".py",
   "mimetype": "text/x-python",
   "name": "python",
   "nbconvert_exporter": "python",
   "pygments_lexer": "ipython3",
   "version": "3.7.7"
  },
  "toc": {
   "base_numbering": 1,
   "nav_menu": {},
   "number_sections": true,
   "sideBar": true,
   "skip_h1_title": false,
   "title_cell": "",
   "title_sidebar": "Навигация",
   "toc_cell": false,
   "toc_position": {},
   "toc_section_display": true,
   "toc_window_display": true
  }
 },
 "nbformat": 4,
 "nbformat_minor": 2
}
