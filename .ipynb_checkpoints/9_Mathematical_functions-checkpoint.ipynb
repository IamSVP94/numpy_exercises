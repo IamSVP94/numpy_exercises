{
 "cells": [
  {
   "cell_type": "markdown",
   "metadata": {},
   "source": [
    "# Mathematical functions"
   ]
  },
  {
   "cell_type": "code",
   "execution_count": 1,
   "metadata": {},
   "outputs": [],
   "source": [
    "import numpy as np"
   ]
  },
  {
   "cell_type": "code",
   "execution_count": 2,
   "metadata": {},
   "outputs": [
    {
     "data": {
      "text/plain": [
       "'1.18.1'"
      ]
     },
     "execution_count": 2,
     "metadata": {},
     "output_type": "execute_result"
    }
   ],
   "source": [
    "np.__version__"
   ]
  },
  {
   "cell_type": "code",
   "execution_count": 3,
   "metadata": {},
   "outputs": [],
   "source": [
    "__author__ = \"kyubyong. kbpark.linguist@gmail.com. https://github.com/kyubyong\""
   ]
  },
  {
   "cell_type": "markdown",
   "metadata": {},
   "source": [
    "## Trigonometric functions"
   ]
  },
  {
   "cell_type": "markdown",
   "metadata": {},
   "source": [
    "Q1. Calculate sine, cosine, and tangent of x, element-wise."
   ]
  },
  {
   "cell_type": "code",
   "execution_count": 13,
   "metadata": {},
   "outputs": [
    {
     "name": "stdout",
     "output_type": "stream",
     "text": [
      "sin=[-0.84147098  0.          0.84147098]\n",
      "cos=[0.54030231 1.         0.54030231]\n",
      "tan=[-1.55740772  0.          1.55740772]\n"
     ]
    }
   ],
   "source": [
    "x = np.array([-1., 0, 1.])\n",
    "print('sin={}\\ncos={}\\ntan={}'.format(np.sin(x),np.cos(x),np.tan(x))) # синус, косинус, тангенс кажд. элемента массива "
   ]
  },
  {
   "cell_type": "markdown",
   "metadata": {},
   "source": [
    "Q2. Calculate inverse sine, inverse cosine, and inverse tangent of x, element-wise."
   ]
  },
  {
   "cell_type": "code",
   "execution_count": 24,
   "metadata": {},
   "outputs": [
    {
     "name": "stdout",
     "output_type": "stream",
     "text": [
      "arcsin=[-1.57079633  0.          1.57079633]\n",
      "arccos=[3.14159265 1.57079633 0.        ]\n",
      "arctan=[-0.78539816  0.          0.78539816]\n"
     ]
    }
   ],
   "source": [
    "x = np.array([-1., 0, 1.])\n",
    "# x = np.array([-0.841470984, 0, 0.841470984])\n",
    "print('arcsin={}\\narccos={}\\narctan={}'.format(np.arcsin(x),np.arccos(x),np.arctan(x))) # арксинус, арккосинус, арктангенс кажд. элемента массива (обратны синусу, косинусу, тангенсу)"
   ]
  },
  {
   "cell_type": "markdown",
   "metadata": {},
   "source": [
    "Q3. Convert angles from radians to degrees."
   ]
  },
  {
   "cell_type": "code",
   "execution_count": 29,
   "metadata": {},
   "outputs": [
    {
     "data": {
      "text/plain": [
       "array([-180.,  -90.,   90.,  180.])"
      ]
     },
     "execution_count": 29,
     "metadata": {},
     "output_type": "execute_result"
    }
   ],
   "source": [
    "x = np.array([-np.pi, -np.pi/2, np.pi/2, np.pi]) # = np.array([-3.14159265, -1.57079633,  1.57079633,  3.14159265])\n",
    "np.rad2deg(x) # перевод радиан в градусы"
   ]
  },
  {
   "cell_type": "markdown",
   "metadata": {},
   "source": [
    "Q4. Convert angles from degrees to radians."
   ]
  },
  {
   "cell_type": "code",
   "execution_count": 30,
   "metadata": {},
   "outputs": [
    {
     "data": {
      "text/plain": [
       "array([-3.14159265, -1.57079633,  1.57079633,  3.14159265])"
      ]
     },
     "execution_count": 30,
     "metadata": {},
     "output_type": "execute_result"
    }
   ],
   "source": [
    "x = np.array([-180.,  -90.,   90.,  180.])\n",
    "np.deg2rad(x) # перевод градусов в радианы"
   ]
  },
  {
   "cell_type": "markdown",
   "metadata": {},
   "source": [
    "## Hyperbolic functions"
   ]
  },
  {
   "cell_type": "markdown",
   "metadata": {},
   "source": [
    "Q5. Calculate hyperbolic sine, hyperbolic cosine, and hyperbolic tangent of x, element-wise."
   ]
  },
  {
   "cell_type": "code",
   "execution_count": 34,
   "metadata": {},
   "outputs": [
    {
     "name": "stdout",
     "output_type": "stream",
     "text": [
      "sinh = [-1.17520119  0.          1.17520119]\n",
      "cosh = [1.54308063 1.         1.54308063]\n",
      "tanh = [-0.76159416  0.          0.76159416]\n"
     ]
    }
   ],
   "source": [
    "x = np.array([-1., 0, 1.])\n",
    "sinh_x = np.sinh(x) # гиперболический синус\n",
    "cosh_x = np.cosh(x) # гиперболический косинус\n",
    "tanh_x = np.tanh(x) # гиперболический тангенс\n",
    "print('sinh = {}\\ncosh = {}\\ntanh = {}'.format(sinh_x,cosh_x,tanh_x))"
   ]
  },
  {
   "cell_type": "markdown",
   "metadata": {},
   "source": [
    "## Rounding"
   ]
  },
  {
   "cell_type": "markdown",
   "metadata": {},
   "source": [
    "Q6. Predict the results of these, paying attention to the difference among the family functions."
   ]
  },
  {
   "cell_type": "code",
   "execution_count": 47,
   "metadata": {},
   "outputs": [
    {
     "name": "stdout",
     "output_type": "stream",
     "text": [
      "out1 =  [ 2.  2.  2.  3. -2. -2. -3.]\n",
      "out2 =  [ 2.  1.  2.  2. -3. -3. -3.]\n",
      "out3 =  [ 3.  2.  3.  3. -2. -2. -2.]\n",
      "out4 =  [ 2.  1.  2.  2. -2. -2. -2.]\n",
      "out5 =  [2.0, 2.0, 2.0, 3.0, -2.0, -2.0, -3.0]\n"
     ]
    }
   ],
   "source": [
    "x = np.array([2.1, 1.5, 2.5, 2.9, -2.1, -2.5, -2.9])\n",
    "\n",
    "out1 = np.around(x) # выполняет равномерное (банковское) округление до указанной позиции к ближайшему четному числу. Реальная и мнимая часть комплексных чисел округляется отдельно\n",
    "out2 = np.floor(x) # выполняет округление к меньшему целому числу\n",
    "out3 = np.ceil(x) # округляет к большему целому числу\n",
    "out4 = np.trunc(x) # отбрасывает дробную часть числа\n",
    "out5 = [round(elem) for elem in x] # округляет до заданного числа цифр и возвращает число с плавающей запятой\n",
    "\n",
    "print('out1 = ',out1)\n",
    "print('out2 = ',out2)\n",
    "print('out3 = ',out3)\n",
    "print('out4 = ',out4)\n",
    "print('out5 = ',out5)"
   ]
  },
  {
   "cell_type": "markdown",
   "metadata": {},
   "source": [
    "Q7. Implement out5 in the above question using numpy."
   ]
  },
  {
   "cell_type": "code",
   "execution_count": 53,
   "metadata": {},
   "outputs": [
    {
     "name": "stdout",
     "output_type": "stream",
     "text": [
      "[ 2.  2.  3.  3. -2. -3. -3.]\n"
     ]
    }
   ],
   "source": [
    "'''\n",
    "http://numpy-discussion.10968.n7.nabble.com/why-numpy-round-get-a-different-result-from-python-round-function-td19098.html\n",
    "описана разница между round() и np.around(). Округление идет в обоих случаях в сторону четного числа.\n",
    "Т.о. такое округление будет одинаково для 2,5 и 1,5\n",
    "'''\n",
    "print(np.floor(np.abs(x) + 0.5) * np.sign(x))"
   ]
  },
  {
   "cell_type": "markdown",
   "metadata": {},
   "source": [
    "## Sums, products, differences"
   ]
  },
  {
   "cell_type": "markdown",
   "metadata": {},
   "source": [
    "Q8. Predict the results of these."
   ]
  },
  {
   "cell_type": "code",
   "execution_count": 55,
   "metadata": {},
   "outputs": [
    {
     "name": "stdout",
     "output_type": "stream",
     "text": [
      "-> 36\n",
      "-> [ 6  8 10 12]\n",
      "-> [[10]\n",
      " [26]]\n",
      "\n",
      "-> 40320\n",
      "-> [ 5 12 21 32]\n",
      "-> [[  24]\n",
      " [1680]]\n",
      "\n",
      "-> [ 1  3  6 10 15 21 28 36]\n",
      "-> [[ 1  2  3  4]\n",
      " [ 6  8 10 12]]\n",
      "-> [[ 1  3  6 10]\n",
      " [ 5 11 18 26]]\n",
      "\n",
      "-> [    1     2     6    24   120   720  5040 40320]\n",
      "-> [[ 1  2  3  4]\n",
      " [ 5 12 21 32]]\n",
      "-> [[   1    2    6   24]\n",
      " [   5   30  210 1680]]\n",
      "\n",
      "-> 1\n",
      "-> [1 2 3 4]\n",
      "-> [[1]\n",
      " [5]]\n",
      "\n",
      "-> 8\n",
      "-> [5 6 7 8]\n",
      "-> [[4]\n",
      " [8]]\n",
      "\n",
      "-> 4.5\n",
      "-> [3. 4. 5. 6.]\n",
      "-> [[2.5]\n",
      " [6.5]]\n"
     ]
    },
    {
     "name": "stderr",
     "output_type": "stream",
     "text": [
      "C:\\ProgramData\\Anaconda3\\lib\\site-packages\\ipykernel_launcher.py:34: FutureWarning: elementwise comparison failed; returning scalar instead, but in the future will perform elementwise comparison\n"
     ]
    }
   ],
   "source": [
    "x = np.array(\n",
    "    [[1, 2, 3, 4],\n",
    "     [5, 6, 7, 8]])\n",
    "\n",
    "outs = [np.sum(x), # сумма всех элементов\n",
    "        np.sum(x, axis=0), # сумма элементов столбцов (вдоль оси 0)\n",
    "        np.sum(x, axis=1, keepdims=True),  # сумма элементов строк (вдоль оси 1)\n",
    "        \"\",\n",
    "        np.prod(x), # произведение элементов массива\n",
    "        np.prod(x, axis=0), # произведение элементов столбцов (вдоль оси 0)\n",
    "        np.prod(x, axis=1, keepdims=True), #произведение элементов столбцов (вдоль оси 1) (keepdims-задает размерность)\n",
    "        \"\",\n",
    "        np.cumsum(x), # возвращает массив кумулятивных сумм (сумму, к которой послед. прибавляют след элемент)\n",
    "        np.cumsum(x, axis=0), # возвращает массив куммулятивных сумм вдоль оси 0( 1строка не тронута, к эл. 2-ой строки прибавлены эл. 1-ой строки) \n",
    "        np.cumsum(x, axis=1), # возвращает массив куммулятивных сумм вдоль оси 1 (построчную сумму, к которой послед. прибавляют след элемент)\n",
    "        \"\",\n",
    "        np.cumprod(x), # возвращает кумулятивное (накапливаемое) произведение элементов массива (произвед., которое умножается на след. элемент)\n",
    "        np.cumprod(x, axis=0),  # возвращает кумулятивное (накапливаемое) произведение элементов массива вдоль оси 0 ( 1строка не тронута, эл. 2-ой строки умножены на эл. 1-ой строки)\n",
    "        np.cumprod(x, axis=1), # возвращает кумулятивное (накапливаемое) произведение элементов массива вдоль оси 1 (построчно)\n",
    "        \"\",\n",
    "        np.min(x), # наименьший элемент массива\n",
    "        np.min(x, axis=0), # наименьший элемент массива вдоль оси 0 (возвращает строку)\n",
    "        np.min(x, axis=1, keepdims=True), # наименьший элемент массива вдоль оси 1 (возвращает столбец)\n",
    "        \"\",\n",
    "        np.max(x), # наибольший элемент массива\n",
    "        np.max(x, axis=0), # наибольший элемент массива вдоль оси 0 (возвращает строку)\n",
    "        np.max(x, axis=1, keepdims=True), # наибольший элемент массива вдоль оси 1 (возвращает столбец)\n",
    "        \"\",\n",
    "        np.mean(x), # вычисляет среднее арифметическое значений элементов массива\n",
    "        np.mean(x, axis=0), # вычисляет среднее арифметическое значений элементов массива вдоль оси 0 (ср. арифм. столбцов)\n",
    "        np.mean(x, axis=1, keepdims=True)] # вычисляет среднее арифметическое значений элементов массива вдоль оси 0 (ср. арифм. строк)\n",
    "           \n",
    "for out in outs:\n",
    "    if out == \"\":\n",
    "#         pass\n",
    "        print()\n",
    "    else:\n",
    "        pass\n",
    "        print(\"->\", out)\n"
   ]
  },
  {
   "cell_type": "markdown",
   "metadata": {},
   "source": [
    "Q9. Calculate the difference between neighboring elements, element-wise."
   ]
  },
  {
   "cell_type": "code",
   "execution_count": 58,
   "metadata": {},
   "outputs": [
    {
     "data": {
      "text/plain": [
       "array([ 1,  2,  3, -7])"
      ]
     },
     "execution_count": 58,
     "metadata": {},
     "output_type": "execute_result"
    }
   ],
   "source": [
    "x = np.array([1, 2, 4, 7, 0])\n",
    "np.diff(x) # возвращает разницу между соседними элементами массива"
   ]
  },
  {
   "cell_type": "markdown",
   "metadata": {},
   "source": [
    "Q10. Calculate the difference between neighboring elements, element-wise, and\n",
    "prepend [0, 0] and append[100] to it."
   ]
  },
  {
   "cell_type": "code",
   "execution_count": 63,
   "metadata": {},
   "outputs": [
    {
     "data": {
      "text/plain": [
       "array([  0,   0,   1,   2,   3,  -7, 100])"
      ]
     },
     "execution_count": 63,
     "metadata": {},
     "output_type": "execute_result"
    }
   ],
   "source": [
    "x = np.array([1, 2, 4, 7, 0])\n",
    "np.ediff1d(x, to_begin=[0, 0], to_end=[100]) # возвращает разность между последовательными элементами массива. Если входной массив является многомерным, то он сжимается до одной оси. Так же добавляет элементы в начале и в конце выводимого массива"
   ]
  },
  {
   "cell_type": "markdown",
   "metadata": {},
   "source": [
    "Q11. Return the cross product of x and y."
   ]
  },
  {
   "cell_type": "code",
   "execution_count": 66,
   "metadata": {},
   "outputs": [
    {
     "data": {
      "text/plain": [
       "array([-3,  6, -3])"
      ]
     },
     "execution_count": 66,
     "metadata": {},
     "output_type": "execute_result"
    }
   ],
   "source": [
    "x = np.array([1, 2, 3])\n",
    "y = np.array([4, 5, 6])\n",
    "np.cross(x, y) # вычисляет векторное произведение двух векторов в \"кол-во эл. векторов-мерном\" пространстве"
   ]
  },
  {
   "cell_type": "markdown",
   "metadata": {},
   "source": [
    "## Exponents and logarithms"
   ]
  },
  {
   "cell_type": "markdown",
   "metadata": {},
   "source": [
    "Q12. Compute $e^x$, element-wise."
   ]
  },
  {
   "cell_type": "code",
   "execution_count": 7,
   "metadata": {},
   "outputs": [
    {
     "data": {
      "text/plain": [
       "array([ 2.7182817,  7.389056 , 20.085537 ], dtype=float32)"
      ]
     },
     "execution_count": 7,
     "metadata": {},
     "output_type": "execute_result"
    }
   ],
   "source": [
    "x = np.array([1., 2., 3.], np.float32)\n",
    "np.exp(x) # вычисляет экспоненту всех элементов массива"
   ]
  },
  {
   "cell_type": "markdown",
   "metadata": {},
   "source": [
    "Q13. Calculate exp(x) - 1 for all elements in x."
   ]
  },
  {
   "cell_type": "code",
   "execution_count": 10,
   "metadata": {},
   "outputs": [
    {
     "name": "stdout",
     "output_type": "stream",
     "text": [
      "[ 1.7182817  6.389056  19.085537 ] [ 1.7182817  6.389056  19.085537 ]\n"
     ]
    }
   ],
   "source": [
    "x = np.array([1., 2., 3.], np.float32)\n",
    "y = np.expm1(x) # вычисляет exp(x)-1 всех элементов массива, обеспечивая большую точность для малых x\n",
    "z = np.exp(x)-1\n",
    "print(y,z)"
   ]
  },
  {
   "cell_type": "markdown",
   "metadata": {},
   "source": [
    "Q14. Calculate $2^p$ for all p in x."
   ]
  },
  {
   "cell_type": "code",
   "execution_count": 14,
   "metadata": {},
   "outputs": [
    {
     "name": "stdout",
     "output_type": "stream",
     "text": [
      "[2. 4. 8.] [2. 4. 8.]\n"
     ]
    }
   ],
   "source": [
    "x = np.array([1., 2., 3.], np.float32)\n",
    "y = np.exp2(x) # вычисляет степени двойки т.е. 2**x для всех x входного массива\n",
    "z = 2**x\n",
    "print(y,z)"
   ]
  },
  {
   "cell_type": "markdown",
   "metadata": {},
   "source": [
    "Q15. Compute natural, base 10, and base 2 logarithms of x element-wise."
   ]
  },
  {
   "cell_type": "code",
   "execution_count": 25,
   "metadata": {},
   "outputs": [
    {
     "name": "stdout",
     "output_type": "stream",
     "text": [
      "[1.         2.71828183 7.3890561 ] \n",
      " [0. 1. 2.] \t [0.         0.43429448 0.86858896] \t [0.         1.44269504 2.88539008]\n"
     ]
    }
   ],
   "source": [
    "x = np.array([1, np.e, np.e**2])\n",
    "lnx = np.log(x) # вычисляет натуральный логарифм элементов массива\n",
    "lgx = np.log10(x) # вычисляет десятичный логарифм элементов массива\n",
    "log2x = np.log2(x) # вычисляет двоичный логарифм элементов массива\n",
    "print(x,'\\n',lnx,'\\t',lgx,'\\t',log2x)"
   ]
  },
  {
   "cell_type": "markdown",
   "metadata": {},
   "source": [
    "Q16. Compute the natural logarithm of one plus each element in x in floating-point accuracy."
   ]
  },
  {
   "cell_type": "code",
   "execution_count": 5,
   "metadata": {},
   "outputs": [
    {
     "data": {
      "text/plain": [
       "array([1.e-099, 1.e-100])"
      ]
     },
     "execution_count": 5,
     "metadata": {},
     "output_type": "execute_result"
    }
   ],
   "source": [
    "x = np.array([1e-99, 1e-100])\n",
    "np.log1p(x) # вычисляет log(x+1) для всех x входного массива"
   ]
  },
  {
   "cell_type": "markdown",
   "metadata": {},
   "source": [
    "## Floating point routines"
   ]
  },
  {
   "cell_type": "markdown",
   "metadata": {},
   "source": [
    "Q17. Return element-wise True where signbit is set."
   ]
  },
  {
   "cell_type": "code",
   "execution_count": 8,
   "metadata": {},
   "outputs": [
    {
     "data": {
      "text/plain": [
       "array([ True,  True,  True, False, False, False, False])"
      ]
     },
     "execution_count": 8,
     "metadata": {},
     "output_type": "execute_result"
    }
   ],
   "source": [
    "x = np.array([-3, -2, -1, 0, 1, 2, 3])\n",
    "np.signbit(x) # True если число отрицательное"
   ]
  },
  {
   "cell_type": "markdown",
   "metadata": {},
   "source": [
    "Q18. Change the sign of x to that of y, element-wise."
   ]
  },
  {
   "cell_type": "code",
   "execution_count": 15,
   "metadata": {},
   "outputs": [
    {
     "data": {
      "text/plain": [
       "array([-1., -0., -1.])"
      ]
     },
     "execution_count": 15,
     "metadata": {},
     "output_type": "execute_result"
    }
   ],
   "source": [
    "x = np.array([-1, 0, 1])\n",
    "y = -59\n",
    "np.copysign(x,y) # изменяет знак элементов из массива x на знак элементов из массива y. Если y число, то у всех эл. его знак"
   ]
  },
  {
   "cell_type": "markdown",
   "metadata": {},
   "source": [
    "## Arithmetic operations"
   ]
  },
  {
   "cell_type": "markdown",
   "metadata": {},
   "source": [
    "Q19. Add x and y element-wise."
   ]
  },
  {
   "cell_type": "code",
   "execution_count": 24,
   "metadata": {},
   "outputs": [
    {
     "name": "stdout",
     "output_type": "stream",
     "text": [
      "[0 0 0] True\n"
     ]
    }
   ],
   "source": [
    "x = np.array([1, 2, 3])\n",
    "y = np.array([-1, -2, -3])\n",
    "out1 = x + y # выполняет поэлементную сумму массивов\n",
    "out2 = np.add(x,y) # выполняет поэлементную сумму массивов\n",
    "condition = np.array_equal(out2, out1) # проверяем равенство массивов\n",
    "print(out2, condition)"
   ]
  },
  {
   "cell_type": "markdown",
   "metadata": {},
   "source": [
    "Q20. Subtract y from x element-wise."
   ]
  },
  {
   "cell_type": "code",
   "execution_count": 29,
   "metadata": {},
   "outputs": [
    {
     "name": "stdout",
     "output_type": "stream",
     "text": [
      "[0 1 2] True\n"
     ]
    }
   ],
   "source": [
    "x = np.array([3, 4, 5])\n",
    "y = np.array(3)\n",
    "out1 = x - y # выполняет поэлементную разность массивов\n",
    "out2 = np.subtract(x,y) # выполняет поэлементную разность массивов\n",
    "condition = np.array_equal(out2, out1) # проверяем равенство массивов\n",
    "print(out1, condition)"
   ]
  },
  {
   "cell_type": "markdown",
   "metadata": {},
   "source": [
    "Q21. Multiply x by y element-wise."
   ]
  },
  {
   "cell_type": "code",
   "execution_count": 35,
   "metadata": {},
   "outputs": [
    {
     "name": "stdout",
     "output_type": "stream",
     "text": [
      "[ 3  0 -5] True\n"
     ]
    }
   ],
   "source": [
    "x = np.array([3, 4, 5])\n",
    "y = np.array([1, 0, -1])\n",
    "out1 = np.multiply(x,y) # выполняет поэлементную перемножение массивов\n",
    "out2 = x*y # выполняет поэлементную перемножение массивов\n",
    "condition = np.array_equal(out2, out1) # проверяем равенство массивов\n",
    "print(out1, condition)"
   ]
  },
  {
   "cell_type": "markdown",
   "metadata": {},
   "source": [
    "Q22. Divide x by y element-wise in two different ways."
   ]
  },
  {
   "cell_type": "code",
   "execution_count": 55,
   "metadata": {},
   "outputs": [
    {
     "name": "stdout",
     "output_type": "stream",
     "text": [
      "[3.         2.         3.66666667] \t [3. 2. 3.]\n"
     ]
    }
   ],
   "source": [
    "x = np.array([3., 4., 11.])\n",
    "y = np.array([1., 2., 3.])\n",
    "out1 = np.true_divide(x,y) # вычисляет поэлементное ИСТИННОЕ деление значений указанных массивов\n",
    "out2 = x/y # в Python3 out1 эквивалентен out2\n",
    "\n",
    "out3 = np.floor_divide(x,y) # выполняет поэлементное ЦЕЛОЧИСЛЕННОЕ деление значений массива\n",
    "print(out1,'\\t',out3)"
   ]
  },
  {
   "cell_type": "markdown",
   "metadata": {},
   "source": [
    "Q23. Compute numerical negative value of x, element-wise."
   ]
  },
  {
   "cell_type": "code",
   "execution_count": 51,
   "metadata": {},
   "outputs": [
    {
     "name": "stdout",
     "output_type": "stream",
     "text": [
      "[-1  1] True\n"
     ]
    }
   ],
   "source": [
    "x = np.array([1, -1])\n",
    "out1 = np.negative(x) # выполняет смену знака всех элементов массива\n",
    "out2 = -x # выполняет смену знака всех элементов массива\n",
    "condition = np.array_equal(out2, out1) # проверяем равенство массивов\n",
    "print(out1, condition)"
   ]
  },
  {
   "cell_type": "markdown",
   "metadata": {},
   "source": [
    "Q24. Compute the reciprocal of x, element-wise."
   ]
  },
  {
   "cell_type": "code",
   "execution_count": 63,
   "metadata": {},
   "outputs": [
    {
     "name": "stdout",
     "output_type": "stream",
     "text": [
      "[1.  0.5 5. ]\n"
     ]
    }
   ],
   "source": [
    "x = np.array([1., 2., .2])\n",
    "out1 = np.reciprocal(x) # поэлементно вычисляет обратное значение массива\n",
    "out2 = 1/x\n",
    "assert np.array_equal(out1, out2) # проверяем равенство массивов\n",
    "print(out1)"
   ]
  },
  {
   "cell_type": "markdown",
   "metadata": {},
   "source": [
    "Q25. Compute $x^y$, element-wise."
   ]
  },
  {
   "cell_type": "code",
   "execution_count": 68,
   "metadata": {},
   "outputs": [
    {
     "data": {
      "text/plain": [
       "array([[ 1,  4],\n",
       "       [ 3, 16]], dtype=int32)"
      ]
     },
     "execution_count": 68,
     "metadata": {},
     "output_type": "execute_result"
    }
   ],
   "source": [
    "x = np.array([[1, 2], [3, 4]])\n",
    "y = np.array([[1, 2], [1, 2]])\n",
    "np.power(x, y) # выполняет возведение элементов из массива x в степень элементов из массива y."
   ]
  },
  {
   "cell_type": "markdown",
   "metadata": {},
   "source": [
    "Q26. Compute the remainder of x / y element-wise in two different ways."
   ]
  },
  {
   "cell_type": "code",
   "execution_count": 85,
   "metadata": {},
   "outputs": [
    {
     "name": "stdout",
     "output_type": "stream",
     "text": [
      "[1 0 1 1 0 1]\n",
      "[-1  0 -1  1  0  1]\n"
     ]
    }
   ],
   "source": [
    "x = np.array([-3, -2, -1, 1, 2, 3])\n",
    "y = 2\n",
    "out1 = np.mod(x,y) # поэлементно вычисляет остаток от деления значений массива x на значения массива y, не сохраняя знак x\n",
    "out2 = x%y # поэлементно вычисляет остаток от деления значений массива x на значения массива y, не сохраняя знак x\n",
    "assert np.array_equal(out1, out2) # проверяем равенство массивов\n",
    "print(out1)\n",
    "\n",
    "out3 = np.fmod(x,y) # поэлементно вычисляет остаток от деления значений массива x на значения массива y, сохраняя знак x\n",
    "print(out3)"
   ]
  },
  {
   "cell_type": "markdown",
   "metadata": {},
   "source": [
    "## Miscellaneous"
   ]
  },
  {
   "cell_type": "markdown",
   "metadata": {},
   "source": [
    "Q27. If an element of x is smaller than 3, replace it with 3.\n",
    "And if an element of x is bigger than 7, replace it with 7."
   ]
  },
  {
   "cell_type": "code",
   "execution_count": 99,
   "metadata": {},
   "outputs": [
    {
     "name": "stdout",
     "output_type": "stream",
     "text": [
      "[3 3 3 3 4 5 6 7 7 7] [3 3 3 3 4 5 6 7 7 7]\n"
     ]
    }
   ],
   "source": [
    "x = np.arange(10)\n",
    "y = np.clip(x, 3, 7) # ограниченичивает элементы массива указанным интервалом допустимых значений\n",
    "z = np.copy(x) # создаем дубликат массива\n",
    "z[z<3]=3 # все элементы массива, которые меньше чем 3, приравниваем к 3\n",
    "z[z>7]=7 # все элементы массива, которые больше чем 7, приравниваем к 7\n",
    "print(y,z)"
   ]
  },
  {
   "cell_type": "markdown",
   "metadata": {},
   "source": [
    "Q28. Compute the square of x, element-wise."
   ]
  },
  {
   "cell_type": "code",
   "execution_count": 103,
   "metadata": {},
   "outputs": [
    {
     "name": "stdout",
     "output_type": "stream",
     "text": [
      "[1 4 1]\n"
     ]
    }
   ],
   "source": [
    "x = np.array([1, 2, -1])\n",
    "out1 = np.square(x) # вычисляет квадрат элементов массива, т.е. каждый элемент массива умножается сам на себя\n",
    "out2 = x*x # вычисляет квадрат элементов массива, т.е. каждый элемент массива умножается сам на себя\n",
    "assert np.array_equal(out1, out2) # проверяем равенство массивов\n",
    "print(out1)"
   ]
  },
  {
   "cell_type": "markdown",
   "metadata": {},
   "source": [
    "Q29. Compute square root of x element-wise.\n"
   ]
  },
  {
   "cell_type": "code",
   "execution_count": 107,
   "metadata": {},
   "outputs": [
    {
     "name": "stdout",
     "output_type": "stream",
     "text": [
      "[1. 2. 3.]\n"
     ]
    }
   ],
   "source": [
    "x = np.array([1., 4., 9.])\n",
    "out1 = np.sqrt(x) # вычисляет квадратный корень элементов массива\n",
    "out2 = x**0.5 # вычисляет квадратный корень элементов массива\n",
    "assert np.array_equal(out1, out2) # проверяем равенство массивов\n",
    "print(out1)"
   ]
  },
  {
   "cell_type": "markdown",
   "metadata": {},
   "source": [
    "Q30. Compute the absolute value of x."
   ]
  },
  {
   "cell_type": "code",
   "execution_count": 110,
   "metadata": {},
   "outputs": [
    {
     "data": {
      "text/plain": [
       "array([[1, 1],\n",
       "       [3, 3]])"
      ]
     },
     "execution_count": 110,
     "metadata": {},
     "output_type": "execute_result"
    }
   ],
   "source": [
    "x = np.array([[1, -1], [3, -3]])\n",
    "np.abs(x) # возвращает абсолютное значение (модуль) элементов массива"
   ]
  },
  {
   "cell_type": "markdown",
   "metadata": {},
   "source": [
    "Q31. Compute an element-wise indication of the sign of x, element-wise."
   ]
  },
  {
   "cell_type": "code",
   "execution_count": 114,
   "metadata": {},
   "outputs": [
    {
     "data": {
      "text/plain": [
       "array([ 1,  1,  0, -1, -1])"
      ]
     },
     "execution_count": 114,
     "metadata": {},
     "output_type": "execute_result"
    }
   ],
   "source": [
    "x = np.array([1, 3, 0, -1, -3])\n",
    "np.sign(x) # является указателем на знак числа."
   ]
  }
 ],
 "metadata": {
  "kernelspec": {
   "display_name": "Python 3",
   "language": "python",
   "name": "python3"
  },
  "language_info": {
   "codemirror_mode": {
    "name": "ipython",
    "version": 3
   },
   "file_extension": ".py",
   "mimetype": "text/x-python",
   "name": "python",
   "nbconvert_exporter": "python",
   "pygments_lexer": "ipython3",
   "version": "3.7.4"
  }
 },
 "nbformat": 4,
 "nbformat_minor": 1
}
