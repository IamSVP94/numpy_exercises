{
 "cells": [
  {
   "cell_type": "markdown",
   "metadata": {},
   "source": [
    "# Set routines"
   ]
  },
  {
   "cell_type": "code",
   "execution_count": 1,
   "metadata": {},
   "outputs": [],
   "source": [
    "import numpy as np"
   ]
  },
  {
   "cell_type": "code",
   "execution_count": 2,
   "metadata": {},
   "outputs": [
    {
     "data": {
      "text/plain": [
       "'1.18.1'"
      ]
     },
     "execution_count": 2,
     "metadata": {},
     "output_type": "execute_result"
    }
   ],
   "source": [
    "np.__version__"
   ]
  },
  {
   "cell_type": "code",
   "execution_count": 3,
   "metadata": {},
   "outputs": [],
   "source": [
    "author = 'kyubyong. longinglove@nate.com'"
   ]
  },
  {
   "cell_type": "markdown",
   "metadata": {},
   "source": [
    "## Making proper sets"
   ]
  },
  {
   "cell_type": "markdown",
   "metadata": {},
   "source": [
    "Q1. Get unique elements and reconstruction indices from x. And reconstruct x."
   ]
  },
  {
   "cell_type": "code",
   "execution_count": 12,
   "metadata": {},
   "outputs": [
    {
     "name": "stdout",
     "output_type": "stream",
     "text": [
      "[1 2 3 4 6]\n",
      "[0 1 4 3 1 2 1]\n",
      "[1 2 6 4 2 3 2]\n"
     ]
    }
   ],
   "source": [
    "x = np.array([1, 2, 6, 4, 2, 3, 2])\n",
    "uniq_el, index = np.unique(x, return_inverse=True) # находит уникальные элементы массива и возвращает их в отсортированном массиве.\n",
    "'''\n",
    "numpy.unique(a, return_index=False, return_inverse=False, return_counts=False, axis=None)\n",
    "В зависимости от установленных параметров, данная функция может возвращать:\n",
    "- индексы входного массива, которые соответствуют его уникальным элементам;\n",
    "- индексы уникального массива, которые позволяют восстановить входной массив;\n",
    "- количество вхождений каждого уникального элемента во входном массиве.\n",
    "\n",
    "\n",
    "\n",
    "\n",
    "'''\n",
    "print(uniq_el) # все уникальные элементы массива\n",
    "print(index) # индексы элементов в новом множестве, под которыми стоят элементы в массиве\n",
    "print(uniq_el[index]) # восстановленный оригинальный массив"
   ]
  },
  {
   "cell_type": "markdown",
   "metadata": {},
   "source": [
    "## Boolean operations"
   ]
  },
  {
   "cell_type": "markdown",
   "metadata": {},
   "source": [
    "Q2. Create a boolean array of the same shape as x. If each element of x is present in y, the result will be True, otherwise False."
   ]
  },
  {
   "cell_type": "code",
   "execution_count": 16,
   "metadata": {},
   "outputs": [
    {
     "data": {
      "text/plain": [
       "array([ True,  True, False, False,  True])"
      ]
     },
     "execution_count": 16,
     "metadata": {},
     "output_type": "execute_result"
    }
   ],
   "source": [
    "x = np.array([0, 1, 2, 5, 0])\n",
    "y = np.array([0, 1])\n",
    "np.in1d(x,y) # поэлементная сверка эл. массива x на присутствие в массиве y"
   ]
  },
  {
   "cell_type": "markdown",
   "metadata": {},
   "source": [
    "Q3. Find the unique intersection of x and y."
   ]
  },
  {
   "cell_type": "code",
   "execution_count": 25,
   "metadata": {},
   "outputs": [
    {
     "name": "stdout",
     "output_type": "stream",
     "text": [
      "[0 2]\n"
     ]
    }
   ],
   "source": [
    "x = np.array([0, 1, 2, 3, 0])\n",
    "y = np.array([0, 2, 8])\n",
    "z = np.intersect1d(x,y) # выводит массив УНИКАЛЬНЫХ элементов x, которые присутствуют в масиве y\n",
    "print(z)"
   ]
  },
  {
   "cell_type": "markdown",
   "metadata": {},
   "source": [
    "Q4. Find the unique elements of x that are not present in y."
   ]
  },
  {
   "cell_type": "code",
   "execution_count": 30,
   "metadata": {},
   "outputs": [
    {
     "data": {
      "text/plain": [
       "array([2, 3])"
      ]
     },
     "execution_count": 30,
     "metadata": {},
     "output_type": "execute_result"
    }
   ],
   "source": [
    "x = np.array([0, 1, 2, 3, 2])\n",
    "y = np.array([0, 1, 4])\n",
    "np.setdiff1d(x,y) # выводит массив УНИКАЛЬНЫХ элементов x, которые НЕ присутствуют в масиве y"
   ]
  },
  {
   "cell_type": "markdown",
   "metadata": {},
   "source": [
    "Q5. Find the xor elements of x and y."
   ]
  },
  {
   "cell_type": "code",
   "execution_count": 49,
   "metadata": {},
   "outputs": [
    {
     "name": "stdout",
     "output_type": "stream",
     "text": [
      "[3 4 5]\n"
     ]
    }
   ],
   "source": [
    "x = np.array([0, 1, 2, 3, 5, 5])\n",
    "y = np.array([0, 1, 2, 4, 4])\n",
    "out1 = np.setxor1d(x,y) # выводит массив отсортированных УНИКАЛЬНЫХ элементов x и y, которые НЕ присутствуют в обоих массивах одновременно\n",
    "out2 = np.concatenate((np.setdiff1d(x, y), np.setdiff1d(y, x)))\n",
    "\n",
    "assert np.array_equal(out1, np.sort(out2)) # условие равенства массивов\n",
    "print(out1)"
   ]
  },
  {
   "cell_type": "markdown",
   "metadata": {},
   "source": [
    "Q6. Find the union of x and y."
   ]
  },
  {
   "cell_type": "code",
   "execution_count": 52,
   "metadata": {},
   "outputs": [
    {
     "data": {
      "text/plain": [
       "array([0, 1, 2, 3, 4])"
      ]
     },
     "execution_count": 52,
     "metadata": {},
     "output_type": "execute_result"
    }
   ],
   "source": [
    "x = np.array([0, 1, 2, 4, 0])\n",
    "y = np.array([0, 1, 3, 3])\n",
    "np.union1d(x,y) # выводит массив сортированных УНИКАЛЬНЫХ значений указанных массивов, которые МОГУТ присутствовать в обоих массивах"
   ]
  }
 ],
 "metadata": {
  "kernelspec": {
   "display_name": "Python 3",
   "language": "python",
   "name": "python3"
  },
  "language_info": {
   "codemirror_mode": {
    "name": "ipython",
    "version": 3
   },
   "file_extension": ".py",
   "mimetype": "text/x-python",
   "name": "python",
   "nbconvert_exporter": "python",
   "pygments_lexer": "ipython3",
   "version": "3.7.4"
  }
 },
 "nbformat": 4,
 "nbformat_minor": 1
}
