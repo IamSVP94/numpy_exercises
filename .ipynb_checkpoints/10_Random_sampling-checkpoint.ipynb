{
 "cells": [
  {
   "cell_type": "markdown",
   "metadata": {},
   "source": [
    "# Random Sampling"
   ]
  },
  {
   "cell_type": "code",
   "execution_count": 1,
   "metadata": {},
   "outputs": [],
   "source": [
    "import numpy as np"
   ]
  },
  {
   "cell_type": "code",
   "execution_count": 2,
   "metadata": {},
   "outputs": [
    {
     "data": {
      "text/plain": [
       "'1.18.1'"
      ]
     },
     "execution_count": 2,
     "metadata": {},
     "output_type": "execute_result"
    }
   ],
   "source": [
    "np.__version__"
   ]
  },
  {
   "cell_type": "code",
   "execution_count": 3,
   "metadata": {},
   "outputs": [],
   "source": [
    "__author__ = 'kyubyong. longinglove@nate.com'"
   ]
  },
  {
   "cell_type": "markdown",
   "metadata": {},
   "source": [
    "## Simple random data"
   ]
  },
  {
   "cell_type": "markdown",
   "metadata": {},
   "source": [
    "Q1. Create an array of shape (3, 2) and populate it with random samples from a uniform distribution over [0, 1)."
   ]
  },
  {
   "cell_type": "code",
   "execution_count": 17,
   "metadata": {},
   "outputs": [
    {
     "data": {
      "text/plain": [
       "array([[0.46274527, 0.19081718],\n",
       "       [0.38449623, 0.14517791],\n",
       "       [0.59664119, 0.78024251]])"
      ]
     },
     "execution_count": 17,
     "metadata": {},
     "output_type": "execute_result"
    }
   ],
   "source": [
    "np.random.rand(3,2) # Массив случайных значений, принадлежащих интервалу [0,1) заданной формы"
   ]
  },
  {
   "cell_type": "markdown",
   "metadata": {},
   "source": [
    "Q2. Create an array of shape (1000, 1000) and populate it with random samples from a standard normal distribution. And verify that the mean and standard deviation is close enough to 0 and 1 repectively."
   ]
  },
  {
   "cell_type": "code",
   "execution_count": 30,
   "metadata": {},
   "outputs": [
    {
     "name": "stdout",
     "output_type": "stream",
     "text": [
      "0.00018761677823282143\n",
      "1.0001513637113983\n"
     ]
    }
   ],
   "source": [
    "out1 = np.random.rand(1000,1000) # Массив случайных значений заданной формы\n",
    "out2 = np.random.standard_normal((1000,1000)) # Массив случайных значений, распределенный по теор. Гаусса, заданной формы\n",
    "out3 = np.random.normal(loc=0, scale = 1, size=(1000,1000)) # Массив случайных значений, распределенный по теор. Гаусса, заданной формы\n",
    "\n",
    "assert np.allclose(np.mean(out2), np.mean(out3), atol=0.1) # проверка похожести массивов с заданной точностью\n",
    "assert np.allclose(np.std(out2),np.std(out3), atol=0.1) # проверка похожести массивов с заданной точностью\n",
    "\n",
    "print(np.mean(out3)) # вычисляет среднее арифметическое значений элементов массива\n",
    "print(np.std(out3)) # вычисляет среднеквадратичное (стандартное) отклонение значений элементов массива"
   ]
  },
  {
   "cell_type": "markdown",
   "metadata": {},
   "source": [
    "Q3. Create an array of shape (3, 2) and populate it with random integers ranging from 0 to 3 (inclusive) from a discrete uniform distribution."
   ]
  },
  {
   "cell_type": "code",
   "execution_count": 52,
   "metadata": {},
   "outputs": [
    {
     "name": "stdout",
     "output_type": "stream",
     "text": [
      "[[3 2]\n",
      " [2 2]\n",
      " [3 1]]\n"
     ]
    }
   ],
   "source": [
    "x = np.random.randint(low=0,high=4,size=(3,2)) # Массив случайных целых чисел из интервала\n",
    "'''\n",
    "low - Нижняя граница интервала [low,high) (по умолч = 0).\n",
    "high - Верхняя граница интервала [low,high) (по умолч = None).\n",
    "Если hihg не указан, то интервал значений изменяется на [0, low).\n",
    "size - размерность массива.\n",
    "можно также записать, без указания параметров np.random.randint(0,4,(3,2))\n",
    "'''\n",
    "print(x)"
   ]
  },
  {
   "cell_type": "markdown",
   "metadata": {},
   "source": [
    "Q4. Extract 1 elements from x randomly such that each of them would be associated with probabilities .3, .5, .2. Then print the result 10 times."
   ]
  },
  {
   "cell_type": "code",
   "execution_count": 77,
   "metadata": {},
   "outputs": [
    {
     "name": "stdout",
     "output_type": "stream",
     "text": [
      "3 out of 10\n",
      "5 out of 10\n",
      "5 out of 10\n",
      "5 out of 10\n",
      "2 out of 10\n",
      "2 out of 10\n",
      "3 out of 10\n",
      "2 out of 10\n",
      "5 out of 10\n",
      "5 out of 10\n"
     ]
    }
   ],
   "source": [
    "'''\n",
    "numpy.random.choice(a, size=None, replace=True, p=None)\n",
    "\n",
    "a - целое положительное число, одномерный массив или одномерная последовательность.\n",
    "Если указан массив или последовательность, то выборка генерируется из его элементов.\n",
    "Если указано число, то выборка генерируется из массива аналогичного np.arange(a).\n",
    "\n",
    "size - целое положительное число или кортеж целых положительных чисел, необязательный параметр\n",
    "Если данный параметр не указан, то будет возвращено одно целое случайное число.\n",
    "Если указано одно число d, то будет возвращен одномерный массив с количеством элементов равным d.\n",
    "Если указано несколько чисел, то количество этих чисел будет определять количество осей массива,\n",
    "а их значения - количество элементов вдоль каждой из них.\n",
    "\n",
    "replace - True или False, необязательный параметр\n",
    "Данный параметр определяет уникальность элементов в выборке.\n",
    "По умолчанию replace=True, т.е. элементы в выборке могут повторяться.\n",
    "\n",
    "p - одномерный массив или одномерная последовательность, необязательный параметр\n",
    "Каждый элемент массива p определяет вероятность соответствующего элемнта из a оказаться в выборке.\n",
    "Входной массив a и p должны быть одинаковой длинны, а сумма элементов массива p должна быть равна 1.\n",
    "По умолчанию p = None, что соответствует равномерному распределению вероятности.\n",
    "\n",
    "print( np.random.choice(x, p=[0.3,0.5,0.2]) )\n",
    "'''\n",
    "x = ['3 out of 10', '5 out of 10', '2 out of 10']\n",
    "for _ in range(10):\n",
    "    print( np.random.choice(x, p=[0.3, 0.5, 0.2]) ) # Случайная выборка из значений заданного одномерного массива"
   ]
  },
  {
   "cell_type": "markdown",
   "metadata": {},
   "source": [
    "Q5. Extract 3 different integers from 0 to 9 randomly with the same probabilities."
   ]
  },
  {
   "cell_type": "code",
   "execution_count": 88,
   "metadata": {},
   "outputs": [
    {
     "data": {
      "text/plain": [
       "array([2, 5, 4])"
      ]
     },
     "execution_count": 88,
     "metadata": {},
     "output_type": "execute_result"
    }
   ],
   "source": [
    "np.random.choice(10,3, replace = False) # Случайная выборка из значений заданного одномерного массива. replace запрещает повторения эл. в массиве"
   ]
  },
  {
   "cell_type": "markdown",
   "metadata": {},
   "source": [
    "## Permutations"
   ]
  },
  {
   "cell_type": "markdown",
   "metadata": {},
   "source": [
    "Q6. Shuffle numbers between 0 and 9 (inclusive)."
   ]
  },
  {
   "cell_type": "code",
   "execution_count": 101,
   "metadata": {},
   "outputs": [
    {
     "name": "stdout",
     "output_type": "stream",
     "text": [
      "[0 1 2 3 4 5 6 7 8 9]\n",
      "[7 6 3 1 4 2 9 0 8 5]\n"
     ]
    }
   ],
   "source": [
    "x=np.arange(10)\n",
    "print(x)\n",
    "np.random.shuffle(x) # возвращает случайную перестановку элементов указанного массива\n",
    "print(x)"
   ]
  },
  {
   "cell_type": "code",
   "execution_count": 102,
   "metadata": {},
   "outputs": [
    {
     "data": {
      "text/plain": [
       "array([1, 5, 9, 2, 3, 7, 8, 4, 0, 6])"
      ]
     },
     "execution_count": 102,
     "metadata": {},
     "output_type": "execute_result"
    }
   ],
   "source": [
    "# Or\n",
    "np.random.permutation(10) # возвращает случайную перестановку элементов массива или случайную последовательность заданной длинны из его элементов"
   ]
  },
  {
   "cell_type": "markdown",
   "metadata": {},
   "source": [
    "## Random generator"
   ]
  },
  {
   "cell_type": "markdown",
   "metadata": {},
   "source": [
    "Q7. Assign number 10 to the seed of the random generator so that you can get the same value next time."
   ]
  },
  {
   "cell_type": "code",
   "execution_count": 118,
   "metadata": {},
   "outputs": [
    {
     "name": "stdout",
     "output_type": "stream",
     "text": [
      "0.771320643266746\n"
     ]
    }
   ],
   "source": [
    "np.random.seed(10) # задает начальные условия для генератора случайных чисел. Число в интервале [0, 2**32] - определяет внутреннее состояние генератора\n",
    "out1 = np.random.rand()\n",
    "np.random.seed(10) # задает начальные условия для генератора случайных чисел\n",
    "out2 = np.random.rand()\n",
    "assert out1 == out2\n",
    "print(out2)"
   ]
  }
 ],
 "metadata": {
  "kernelspec": {
   "display_name": "Python 3",
   "language": "python",
   "name": "python3"
  },
  "language_info": {
   "codemirror_mode": {
    "name": "ipython",
    "version": 3
   },
   "file_extension": ".py",
   "mimetype": "text/x-python",
   "name": "python",
   "nbconvert_exporter": "python",
   "pygments_lexer": "ipython3",
   "version": "3.7.4"
  }
 },
 "nbformat": 4,
 "nbformat_minor": 1
}
