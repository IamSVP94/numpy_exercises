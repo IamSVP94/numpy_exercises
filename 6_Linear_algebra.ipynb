{
 "cells": [
  {
   "cell_type": "markdown",
   "metadata": {},
   "source": [
    "# Linear algebra"
   ]
  },
  {
   "cell_type": "code",
   "execution_count": 1,
   "metadata": {},
   "outputs": [],
   "source": [
    "import numpy as np"
   ]
  },
  {
   "cell_type": "code",
   "execution_count": 2,
   "metadata": {},
   "outputs": [
    {
     "data": {
      "text/plain": [
       "'1.18.1'"
      ]
     },
     "execution_count": 2,
     "metadata": {},
     "output_type": "execute_result"
    }
   ],
   "source": [
    "np.__version__"
   ]
  },
  {
   "cell_type": "markdown",
   "metadata": {},
   "source": [
    "## Matrix and vector products"
   ]
  },
  {
   "cell_type": "markdown",
   "metadata": {},
   "source": [
    "Q1. Predict the results of the following code."
   ]
  },
  {
   "cell_type": "code",
   "execution_count": 14,
   "metadata": {},
   "outputs": [
    {
     "name": "stdout",
     "output_type": "stream",
     "text": [
      "[1, 2] | [[4, 1], [2, 2]]\n",
      "[8 5] - \"np.dot\": вычисляет скалярное произведение двух массивов\n",
      "[6 6] - \"np.dot\": вычисляет скалярное произведение двух массивов (строку х с каждым столбцом у)\n",
      "[8 5] - \"np.matmul\": вычисляет матричное произведение двух массивов\n",
      "[6 6] - \"np.matmul\": вычисляет матричное произведение двух массивов (строку х с каждым столбцом у)\n",
      "[6 6] - \"np.inner\": сумма произведений по последним осям\n",
      "[6 6] - \"np.inner\": сумма произведений по последним осям\n"
     ]
    }
   ],
   "source": [
    "x = [1,2]\n",
    "y = [[4, 1], [2, 2]]\n",
    "print(x,'|',y)\n",
    "print('{} - \"np.dot\": вычисляет скалярное произведение двух массивов'.format(np.dot(x, y))) # вычисляет скалярное произведение двух массивов\n",
    "print('{} - \"np.dot\": вычисляет скалярное произведение двух массивов (строку х с каждым столбцом у)'.format(np.dot(y, x))) # вычисляет скалярное произведение двух массивов (строку х с каждым столбцом у)\n",
    "print('{} - \"np.matmul\": вычисляет матричное произведение двух массивов'.format(np.matmul(x, y))) # вычисляет матричное произведение двух массивов\n",
    "print('{} - \"np.matmul\": вычисляет матричное произведение двух массивов (строку х с каждым столбцом у)'.format(np.matmul(y,x))) # вычисляет матричное произведение двух массивов (строку х с каждым столбцом у)\n",
    "print('{} - \"np.inner\": сумма произведений по последним осям'.format(np.inner(x, y))) # сумма произведений по последним осям\n",
    "print('{} - \"np.inner\": сумма произведений по последним осям'.format(np.inner(y, x))) # сумма произведений по последним осям"
   ]
  },
  {
   "cell_type": "markdown",
   "metadata": {},
   "source": [
    "Q2. Predict the results of the following code."
   ]
  },
  {
   "cell_type": "code",
   "execution_count": 22,
   "metadata": {},
   "outputs": [
    {
     "name": "stdout",
     "output_type": "stream",
     "text": [
      "[[4 1]\n",
      " [2 2]\n",
      " [1 1]]\n",
      "[[4 1]\n",
      " [2 2]\n",
      " [1 1]]\n"
     ]
    }
   ],
   "source": [
    "x = [[1, 0], [0, 1]]\n",
    "y = [[4, 1], [2, 2], [1, 1]]\n",
    "print(np.dot(y, x))\n",
    "print(np.matmul(y, x))"
   ]
  },
  {
   "cell_type": "markdown",
   "metadata": {},
   "source": [
    "Q3. Predict the results of the following code."
   ]
  },
  {
   "cell_type": "code",
   "execution_count": 41,
   "metadata": {},
   "outputs": [
    {
     "name": "stdout",
     "output_type": "stream",
     "text": [
      "30\n",
      "30\n",
      "30\n",
      "30\n",
      "\n",
      "[[ 4  4]\n",
      " [10 12]] \n",
      " 30\n"
     ]
    }
   ],
   "source": [
    "x = np.array([[1, 4], [5, 6]])\n",
    "y = np.array([[4, 1], [2, 2]])\n",
    "print(np.vdot(x, y)) # вычисляет cкалярное произведение двух векторов в том числе и комплексных(a1*b1+a2*b2+...+an*bn)\n",
    "print(np.vdot(y, x)) # вычисляет cкалярное произведение двух векторов в том числе и комплексных(a1*b1+a2*b2+...+an*bn)\n",
    "print(np.dot(x.flatten(), y.flatten())) # вычисляет cкалярное произведение двух векторов, получившихся из матриц\n",
    "print(np.inner(x.flatten(), y.flatten())) # сумма произведений по осям векторов\n",
    "print()\n",
    "print((x*y),'\\n',(x*y).sum())"
   ]
  },
  {
   "cell_type": "markdown",
   "metadata": {},
   "source": [
    "Q4. Predict the results of the following code."
   ]
  },
  {
   "cell_type": "code",
   "execution_count": 43,
   "metadata": {},
   "outputs": [
    {
     "name": "stdout",
     "output_type": "stream",
     "text": [
      "abb\n",
      "abb\n",
      "[['a' 'aa']\n",
      " ['b' 'bb']]\n",
      "[['a' 'b']\n",
      " ['aa' 'bb']]\n"
     ]
    }
   ],
   "source": [
    "x = np.array(['a', 'b'], dtype=object)\n",
    "y = np.array([1, 2])\n",
    "print(np.inner(x, y)) # сумма произведений по последним осям векторов\n",
    "print(np.inner(y, x)) # сумма произведений по последним осям векторов\n",
    "print(np.outer(x, y)) # вычисляет внешнее произведение двух векторов (здесь х-столбцы)\n",
    "print(np.outer(y, x)) # # вычисляет внешнее произведение двух векторов (здесь х-строки)"
   ]
  },
  {
   "cell_type": "markdown",
   "metadata": {},
   "source": [
    "## Decompositions"
   ]
  },
  {
   "cell_type": "markdown",
   "metadata": {},
   "source": [
    "Q5. Get the lower-trianglular `L` in the Cholesky decomposition of x and verify it."
   ]
  },
  {
   "cell_type": "code",
   "execution_count": 49,
   "metadata": {},
   "outputs": [
    {
     "data": {
      "text/plain": [
       "array([[ 2.,  0.,  0.],\n",
       "       [ 6.,  1.,  0.],\n",
       "       [-8.,  5.,  3.]])"
      ]
     },
     "execution_count": 49,
     "metadata": {},
     "output_type": "execute_result"
    }
   ],
   "source": [
    "x = np.array([[4, 12, -16], [12, 37, -43], [-16, -43, 98]], dtype=np.int32)\n",
    "L = np.linalg.cholesky(x) # выполняет разложение Холецкого\n",
    "L"
   ]
  },
  {
   "cell_type": "markdown",
   "metadata": {},
   "source": [
    "Q6. Compute the qr factorization of x and verify it."
   ]
  },
  {
   "cell_type": "code",
   "execution_count": 198,
   "metadata": {},
   "outputs": [
    {
     "name": "stdout",
     "output_type": "stream",
     "text": [
      "q=[[-0.85714287  0.3942857   0.33142856]\n",
      " [-0.42857143 -0.9028571  -0.03428571]\n",
      " [ 0.2857143  -0.17142858  0.94285715]]\n",
      "\n",
      "r=[[ -14.  -21.   14.]\n",
      " [   0. -175.   70.]\n",
      " [   0.    0.  -35.]]\n"
     ]
    }
   ],
   "source": [
    "x = np.array([[12, -51, 4], [6, 167, -68], [-4, 24, -41]], dtype=np.float32)\n",
    "q,r = np.linalg.qr(x) # выполняет QR-разложение матрицы\n",
    "\n",
    "'''\n",
    "Данное разложение позволяет представить матрицу x в виде произведения qr,\n",
    "где q - это ортогональная (унитарная) матрица, а r - это верхнетреугольная матрица\n",
    "'''\n",
    "\n",
    "print('q={}\\n\\nr={}'.format(q,r))\n",
    "assert np.allclose(np.dot(q, r), x) # проверка выполнения условия путем перемножения q на r и сравнения с х ПОЭЛЕМЕНТНО!"
   ]
  },
  {
   "cell_type": "markdown",
   "metadata": {},
   "source": [
    "Q7. Factor x by Singular Value Decomposition and verify it."
   ]
  },
  {
   "cell_type": "code",
   "execution_count": 90,
   "metadata": {},
   "outputs": [
    {
     "name": "stdout",
     "output_type": "stream",
     "text": [
      "U=\n",
      "[[ 0.  1.  0.  0.]\n",
      " [ 1.  0.  0.  0.]\n",
      " [ 0.  0.  0. -1.]\n",
      " [ 0.  0.  1.  0.]]\n",
      "\n",
      "s=\n",
      "[3.       2.236068 2.       0.      ]\n",
      "\n",
      "V=\n",
      "[[-0.         0.         1.         0.         0.       ]\n",
      " [ 0.4472136  0.         0.         0.         0.8944272]\n",
      " [-0.         1.         0.         0.         0.       ]\n",
      " [ 0.         0.         0.         1.         0.       ]]\n"
     ]
    }
   ],
   "source": [
    "x = np.array([[1, 0, 0, 0, 2], [0, 0, 3, 0, 0], [0, 0, 0, 0, 0], [0, 2, 0, 0, 0]], dtype=np.float32)\n",
    "U,s,V = np.linalg.svd(x, full_matrices=False ) # выполняет сингулярное (SVD) разложение ('full_matrices'-определяет форму выходных массивов\n",
    "\n",
    "'''\n",
    "x - матрица, размерностью (m,n)\n",
    "U - ортогональная(унитарные для комплексных х) матрица, которая состоит из левых сингулярных векторов (один из размеров будет равен m)\n",
    "s - диагональная матрица размером (m, n), которая содержит сингулярные числа исходной матрицы х.\n",
    "V - ортогональная(унитарные для комплексных х) транспонированная матрица, которая состоит из правых сингулярных векторов (один из размеров будет равен n)\n",
    "\n",
    "Для проверки условия:\n",
    "1) s_d = np.diag(s) - превращает s из вектора в диагональную матрицу\n",
    "2) перемножаем матрицы step_2 = s_d и V\n",
    "3) перемножаем матрицы step_3 = U и step_2\n",
    "'''\n",
    "\n",
    "print('U=\\n{}\\n\\ns=\\n{}\\n\\nV=\\n{}'.format(U,s,V))\n",
    "assert np.allclose(np.dot(U, np.dot(np.diag(s), V)), x) # проверка выполнения условия"
   ]
  },
  {
   "cell_type": "markdown",
   "metadata": {},
   "source": [
    "## Matrix eigenvalues"
   ]
  },
  {
   "cell_type": "markdown",
   "metadata": {},
   "source": [
    "Q8. Compute the eigenvalues and right eigenvectors of x. (Name them eigenvals and eigenvecs, respectively)"
   ]
  },
  {
   "cell_type": "code",
   "execution_count": 114,
   "metadata": {},
   "outputs": [
    {
     "name": "stdout",
     "output_type": "stream",
     "text": [
      "диагональная матрица х:\n",
      "[[1 0 0]\n",
      " [0 2 0]\n",
      " [0 0 3]]\n",
      "\n",
      "собственные числа массива х:\n",
      "eigenvals=\n",
      "[1. 2. 3.]\n",
      "\n",
      "собственный вектор массива х:\n",
      "eigenvecs=\n",
      "[[1. 0. 0.]\n",
      " [0. 1. 0.]\n",
      " [0. 0. 1.]]\n"
     ]
    }
   ],
   "source": [
    "x = np.diag((1, 2, 3)) # форматирование вектора в диагональную матрицу\n",
    "eigenvals, eigenvecs = np.linalg.eig(x) # вычисляет собственные числа (значения) и собственные векторы квадратной матрицы\n",
    "print('диагональная матрица х:\\n{}\\n\\nсобственные числа массива х:\\neigenvals=\\n{}\\n\\nсобственный вектор массива х:\\neigenvecs=\\n{}'.format(x,eigenvals, eigenvecs))"
   ]
  },
  {
   "cell_type": "markdown",
   "metadata": {},
   "source": [
    "Q9. Predict the results of the following code."
   ]
  },
  {
   "cell_type": "code",
   "execution_count": 107,
   "metadata": {},
   "outputs": [
    {
     "name": "stdout",
     "output_type": "stream",
     "text": [
      "True\n"
     ]
    }
   ],
   "source": [
    "print(np.array_equal(np.dot(x, eigenvecs), eigenvals*eigenvecs))"
   ]
  },
  {
   "cell_type": "markdown",
   "metadata": {},
   "source": [
    "## Norms and other numbers"
   ]
  },
  {
   "cell_type": "markdown",
   "metadata": {},
   "source": [
    "Q10. Calculate the Frobenius norm and the condition number of x."
   ]
  },
  {
   "cell_type": "code",
   "execution_count": 125,
   "metadata": {},
   "outputs": [
    {
     "name": "stdout",
     "output_type": "stream",
     "text": [
      "16.881943016134134 4.561770736605098e+17\n"
     ]
    }
   ],
   "source": [
    "x = np.arange(1, 10).reshape((3, 3))\n",
    "norm_fro = np.linalg.norm(x, ord='fro') # для матриц возвращается норма Фробениуса, для векторов норма не определена;\n",
    "condition_fro = np.linalg.cond(x, p='fro') # вычисляет число обусловленности матрицы (Данное число позволяет оценить насколько матрица далека от матрицы полного ранга или от невырожденности для квадратной матрицы) (\"p\"- позволяет указать необходимую при вычислении норму матрицы)\n",
    "print(norm_fro,condition_fro)"
   ]
  },
  {
   "cell_type": "markdown",
   "metadata": {},
   "source": [
    "Q11. Calculate the determinant of x."
   ]
  },
  {
   "cell_type": "code",
   "execution_count": 162,
   "metadata": {},
   "outputs": [
    {
     "name": "stdout",
     "output_type": "stream",
     "text": [
      "-2.0000000000000004\n"
     ]
    }
   ],
   "source": [
    "x = np.arange(1, 5).reshape((2, 2))\n",
    "out1 = np.linalg.det(x) # вычисляет детерминант (определитель) матрицы\n",
    "out2 = x[0,0]*x[1,1]-x[0,1]*x[1,0] # вычисляем определитель вручную\n",
    "\n",
    "provision = np.allclose(out1,out2) # условие равенства 2х разных вычислений детерминанта\n",
    "assert (provision)\n",
    "\n",
    "print(out1)"
   ]
  },
  {
   "cell_type": "markdown",
   "metadata": {},
   "source": [
    "Q12. Calculate the rank of x."
   ]
  },
  {
   "cell_type": "code",
   "execution_count": 146,
   "metadata": {},
   "outputs": [
    {
     "name": "stdout",
     "output_type": "stream",
     "text": [
      "4\n"
     ]
    }
   ],
   "source": [
    "x = np.eye(4) # возвращает массив указанной размерности, у которого все элементы по диагонали равны 1, а все остальные равны 0\n",
    "rank = np.linalg.matrix_rank(x) # вычисляет ранг матрицы с помощью ее SVD разложения\n",
    "print(rank)"
   ]
  },
  {
   "cell_type": "markdown",
   "metadata": {},
   "source": [
    "Q13. Compute the sign and natural logarithm of the determinant of x."
   ]
  },
  {
   "cell_type": "code",
   "execution_count": 1,
   "metadata": {
    "ExecuteTime": {
     "end_time": "2020-04-23T10:39:29.087367Z",
     "start_time": "2020-04-23T10:39:28.998423Z"
    }
   },
   "outputs": [
    {
     "ename": "NameError",
     "evalue": "name 'np' is not defined",
     "output_type": "error",
     "traceback": [
      "\u001b[1;31m---------------------------------------------------------------------------\u001b[0m",
      "\u001b[1;31mNameError\u001b[0m                                 Traceback (most recent call last)",
      "\u001b[1;32m<ipython-input-1-2d06442a0106>\u001b[0m in \u001b[0;36m<module>\u001b[1;34m\u001b[0m\n\u001b[1;32m----> 1\u001b[1;33m \u001b[0mx\u001b[0m \u001b[1;33m=\u001b[0m \u001b[0mnp\u001b[0m\u001b[1;33m.\u001b[0m\u001b[0marange\u001b[0m\u001b[1;33m(\u001b[0m\u001b[1;36m1\u001b[0m\u001b[1;33m,\u001b[0m \u001b[1;36m5\u001b[0m\u001b[1;33m)\u001b[0m\u001b[1;33m.\u001b[0m\u001b[0mreshape\u001b[0m\u001b[1;33m(\u001b[0m\u001b[1;33m(\u001b[0m\u001b[1;36m2\u001b[0m\u001b[1;33m,\u001b[0m \u001b[1;36m2\u001b[0m\u001b[1;33m)\u001b[0m\u001b[1;33m)\u001b[0m\u001b[1;33m\u001b[0m\u001b[1;33m\u001b[0m\u001b[0m\n\u001b[0m\u001b[0;32m      2\u001b[0m \u001b[0msign\u001b[0m\u001b[1;33m,\u001b[0m \u001b[0mlndet\u001b[0m\u001b[1;33m=\u001b[0m \u001b[0mnp\u001b[0m\u001b[1;33m.\u001b[0m\u001b[0mlinalg\u001b[0m\u001b[1;33m.\u001b[0m\u001b[0mslogdet\u001b[0m\u001b[1;33m(\u001b[0m\u001b[0mx\u001b[0m\u001b[1;33m)\u001b[0m \u001b[1;31m# вычисляет знак и натуральный логарифм определителя (детерминанта) матрицы.\u001b[0m\u001b[1;33m\u001b[0m\u001b[1;33m\u001b[0m\u001b[0m\n\u001b[0;32m      3\u001b[0m \u001b[0mdet\u001b[0m \u001b[1;33m=\u001b[0m \u001b[0mnp\u001b[0m\u001b[1;33m.\u001b[0m\u001b[0mlinalg\u001b[0m\u001b[1;33m.\u001b[0m\u001b[0mdet\u001b[0m\u001b[1;33m(\u001b[0m\u001b[0mx\u001b[0m\u001b[1;33m)\u001b[0m \u001b[1;31m# вычисляет определитель (детерминант) матрицы\u001b[0m\u001b[1;33m\u001b[0m\u001b[1;33m\u001b[0m\u001b[0m\n\u001b[0;32m      4\u001b[0m \u001b[1;33m\u001b[0m\u001b[0m\n\u001b[0;32m      5\u001b[0m \u001b[1;32massert\u001b[0m \u001b[1;33m(\u001b[0m \u001b[0msign\u001b[0m\u001b[1;33m==\u001b[0m\u001b[0mnp\u001b[0m\u001b[1;33m.\u001b[0m\u001b[0msign\u001b[0m\u001b[1;33m(\u001b[0m\u001b[0mdet\u001b[0m\u001b[1;33m)\u001b[0m\u001b[1;33m)\u001b[0m \u001b[1;33m&\u001b[0m \u001b[1;33m(\u001b[0m\u001b[0mlndet\u001b[0m\u001b[1;33m==\u001b[0m\u001b[0mnp\u001b[0m\u001b[1;33m.\u001b[0m\u001b[0mlog\u001b[0m\u001b[1;33m(\u001b[0m\u001b[0mnp\u001b[0m\u001b[1;33m.\u001b[0m\u001b[0mabs\u001b[0m\u001b[1;33m(\u001b[0m\u001b[0mdet\u001b[0m\u001b[1;33m)\u001b[0m\u001b[1;33m)\u001b[0m \u001b[1;33m)\u001b[0m\u001b[1;33m\u001b[0m\u001b[1;33m\u001b[0m\u001b[0m\n",
      "\u001b[1;31mNameError\u001b[0m: name 'np' is not defined"
     ]
    }
   ],
   "source": [
    "x = np.arange(1, 5).reshape((2, 2))\n",
    "sign, lndet= np.linalg.slogdet(x) # вычисляет знак и натуральный логарифм определителя (детерминанта) матрицы.\n",
    "det = np.linalg.det(x) # вычисляет определитель (детерминант) матрицы\n",
    "\n",
    "assert ( sign==np.sign(det)) & (lndet==np.log(np.abs(det)) )\n",
    "\n",
    "print('знак определителя матрицы х: {}\\nнатуральный логарифм определителя матрицы х: {}'.format(sign, det))"
   ]
  },
  {
   "cell_type": "markdown",
   "metadata": {},
   "source": [
    "Q14. Return the sum along the diagonal of x."
   ]
  },
  {
   "cell_type": "code",
   "execution_count": 193,
   "metadata": {},
   "outputs": [
    {
     "name": "stdout",
     "output_type": "stream",
     "text": [
      "4.0\n"
     ]
    }
   ],
   "source": [
    "x = np.eye(4)\n",
    "sumdiag = np.trace(x) # вычисляет cумму диагональных элементов (след) матрицы\n",
    "assert x.diagonal().sum()==sumdiag\n",
    "print(sumdiag)"
   ]
  },
  {
   "cell_type": "markdown",
   "metadata": {},
   "source": [
    "## Solving equations and inverting matrices"
   ]
  },
  {
   "cell_type": "markdown",
   "metadata": {},
   "source": [
    "Q15. Compute the inverse of x."
   ]
  },
  {
   "cell_type": "code",
   "execution_count": 202,
   "metadata": {},
   "outputs": [
    {
     "name": "stdout",
     "output_type": "stream",
     "text": [
      "[[-2.   1. ]\n",
      " [ 1.5 -0.5]]\n"
     ]
    }
   ],
   "source": [
    "x = np.array([[1., 2.], [3., 4.]])\n",
    "inverse = np.linalg.inv(x) # вычисляет обратную матрицу\n",
    "assert np.allclose(np.dot(x, inverse), np.eye(2))\n",
    "print(inverse)"
   ]
  }
 ],
 "metadata": {
  "kernelspec": {
   "display_name": "Python 3",
   "language": "python",
   "name": "python3"
  },
  "language_info": {
   "codemirror_mode": {
    "name": "ipython",
    "version": 3
   },
   "file_extension": ".py",
   "mimetype": "text/x-python",
   "name": "python",
   "nbconvert_exporter": "python",
   "pygments_lexer": "ipython3",
   "version": "3.7.7"
  },
  "toc": {
   "base_numbering": 1,
   "nav_menu": {},
   "number_sections": true,
   "sideBar": true,
   "skip_h1_title": false,
   "title_cell": "",
   "title_sidebar": "Навигация",
   "toc_cell": false,
   "toc_position": {},
   "toc_section_display": true,
   "toc_window_display": true
  }
 },
 "nbformat": 4,
 "nbformat_minor": 1
}
