{
 "cells": [
  {
   "cell_type": "markdown",
   "metadata": {},
   "source": [
    "# Sorting, searching, and counting"
   ]
  },
  {
   "cell_type": "code",
   "execution_count": 3,
   "metadata": {},
   "outputs": [],
   "source": [
    "import numpy as np"
   ]
  },
  {
   "cell_type": "code",
   "execution_count": 4,
   "metadata": {},
   "outputs": [
    {
     "data": {
      "text/plain": [
       "'1.18.1'"
      ]
     },
     "execution_count": 4,
     "metadata": {},
     "output_type": "execute_result"
    }
   ],
   "source": [
    "np.__version__"
   ]
  },
  {
   "cell_type": "code",
   "execution_count": 5,
   "metadata": {},
   "outputs": [],
   "source": [
    "author = 'kyubyong. longinglove@nate.com'"
   ]
  },
  {
   "cell_type": "markdown",
   "metadata": {},
   "source": [
    "## Sorting"
   ]
  },
  {
   "cell_type": "markdown",
   "metadata": {},
   "source": [
    "Q1. Sort x along the second axis."
   ]
  },
  {
   "cell_type": "code",
   "execution_count": 7,
   "metadata": {},
   "outputs": [
    {
     "data": {
      "text/plain": [
       "array([[1, 4],\n",
       "       [1, 3]])"
      ]
     },
     "execution_count": 7,
     "metadata": {},
     "output_type": "execute_result"
    }
   ],
   "source": [
    "x = np.array([[1,4],[3,1]])\n",
    "np.sort(x,axis=1) # сортировка массива по указанной оси"
   ]
  },
  {
   "cell_type": "markdown",
   "metadata": {},
   "source": [
    "Q2. Sort pairs of surnames and first names and return their indices. (first by surname, then by name)."
   ]
  },
  {
   "cell_type": "code",
   "execution_count": 33,
   "metadata": {},
   "outputs": [
    {
     "data": {
      "text/plain": [
       "array([1, 2, 0], dtype=int64)"
      ]
     },
     "execution_count": 33,
     "metadata": {},
     "output_type": "execute_result"
    }
   ],
   "source": [
    "surnames =    ('Hertz',    'Aalilei', 'Hertz')\n",
    "first_names = ('Heinrich', 'Zalileo', 'Gustav')\n",
    "np.lexsort([first_names,surnames]) # выводит связанные индексы обратноотсортированных по x ключей массивов"
   ]
  },
  {
   "cell_type": "code",
   "execution_count": 34,
   "metadata": {},
   "outputs": [
    {
     "data": {
      "text/plain": [
       "array([0, 1, 2], dtype=int64)"
      ]
     },
     "execution_count": 34,
     "metadata": {},
     "output_type": "execute_result"
    }
   ],
   "source": [
    "x = ['A','B','C']\n",
    "y = ['F','E','D']\n",
    "np.lexsort([y,x]) # выводит связанные индексы обратноотсортированных по x ключей массивов"
   ]
  },
  {
   "cell_type": "markdown",
   "metadata": {},
   "source": [
    "Q3. Get the indices that would sort x along the second axis."
   ]
  },
  {
   "cell_type": "code",
   "execution_count": 42,
   "metadata": {},
   "outputs": [
    {
     "data": {
      "text/plain": [
       "array([[0, 1],\n",
       "       [1, 0]], dtype=int64)"
      ]
     },
     "execution_count": 42,
     "metadata": {},
     "output_type": "execute_result"
    }
   ],
   "source": [
    "x = np.array([[1,4],[3,1]])\n",
    "np.argsort(x,axis=1) # возвращает индексы, сортирующие элементы исходного массива"
   ]
  },
  {
   "cell_type": "markdown",
   "metadata": {},
   "source": [
    "Q4. Create an array such that its `fifth` element would be the same as the element of sorted x, and it divide other elements by their value."
   ]
  },
  {
   "cell_type": "code",
   "execution_count": 71,
   "metadata": {},
   "outputs": [
    {
     "name": "stdout",
     "output_type": "stream",
     "text": [
      "[3 8 7 4 5 1 9 0 6 2] \t 1\n",
      "[1 2 0 3 4 5 6 7 8 9]\n"
     ]
    }
   ],
   "source": [
    "x = np.random.permutation(10) # массив случайной сортировки значений до 10\n",
    "y = np.partition(x,5)\n",
    "'''\n",
    "numpy.partition(a, kth, axis=-1, kind='introselect', order=None)\n",
    "Функция partition() возвращает копию исходного массива элементы которого разделены по указанному значению.\n",
    "\n",
    "Параметр kth=4 указывает на индекс элемента в отсортированной копии исходного массива,\n",
    "но в возвращаемом массиве только этот элемент и сохраняет свое положение,\n",
    "все элементы с меньшим значением переносятся влево, а с большим или равным значением переносятся вправо,\n",
    "причем порядок элементов слева и справа никак не определен.\n",
    "'''\n",
    "print(x,'\\t',x[5])\n",
    "print(y)"
   ]
  },
  {
   "cell_type": "markdown",
   "metadata": {},
   "source": [
    "Q5. Create the indices of an array such that its `third` element would be the same as the element of sorted x, and it divide other elements by their value."
   ]
  },
  {
   "cell_type": "code",
   "execution_count": 85,
   "metadata": {},
   "outputs": [
    {
     "name": "stdout",
     "output_type": "stream",
     "text": [
      "[2 7 4 0 6 9 5 3 8 1] \t 0\n",
      "[0 1 2 3 4 5 7 9 8 6]\n",
      "[3 9 0 7 2 6 1 5 8 4]\n"
     ]
    }
   ],
   "source": [
    "x = np.random.permutation(10) # массив случайной сортировки значений до 10\n",
    "partitioned = np.partition(x,3) # возвращает копию исходного массива элементы которого разделены по указанному значению.\n",
    "index = np.argpartition(x,3) # возвращает массив индексов элементов исходного массива в их разбиении по указанному значению\n",
    "'''\n",
    "numpy.argpartition(a, kth, axis=-1, kind='introselect', order=None)\n",
    "Работа данной функции абсолютно аналогична numpy.partition(),\n",
    "но вместо копии разделенного исходного массива она возвращает массив индексов его элементов в этом разбиении.\n",
    "'''\n",
    "print(x,'\\t', x[3])\n",
    "print(partitioned)\n",
    "print(index)"
   ]
  },
  {
   "cell_type": "markdown",
   "metadata": {},
   "source": [
    "## Searching"
   ]
  },
  {
   "cell_type": "markdown",
   "metadata": {},
   "source": [
    "Q6. Get the maximum and minimum values and their indices of x along the `second` axis."
   ]
  },
  {
   "cell_type": "code",
   "execution_count": 109,
   "metadata": {},
   "outputs": [
    {
     "name": "stdout",
     "output_type": "stream",
     "text": [
      "[[6 2 9 3 1]\n",
      " [8 0 4 5 7]]\n",
      "ЗНАЧЕНИЯ элементов:\n",
      "[1 0]\n",
      "[9 8]\n",
      "ИНДЕКСЫ элементов:\n",
      "[4 1]\n",
      "[2 0]\n"
     ]
    }
   ],
   "source": [
    "x = np.random.permutation(10).reshape(2,5) # массив случайной сортировки значений до 10 заданной формы\n",
    "print(x)\n",
    "print('ЗНАЧЕНИЯ элементов:')\n",
    "print(np.min(x,axis=1)) # выводит ЗНАЧЕНИЯ наименьших элементов каждой строки (если axis=1) в одном массиве\n",
    "print(np.max(x,axis=1)) # выводит ЗНАЧЕНИЯ наибольших каждой строки (если axis=1) в одном массиве\n",
    "print('ИНДЕКСЫ элементов:')\n",
    "print(np.argmin(x,axis=1)) # выводит ИНДЕКСЫ наименьших элементов каждой строки (если axis=1) в одном массиве\n",
    "print(np.argmax(x,axis=1)) # выводит ИНДЕКСЫ наибольших каждой строки (если axis=1) в одном массиве"
   ]
  },
  {
   "cell_type": "markdown",
   "metadata": {},
   "source": [
    "Q7. Get the maximum and minimum values and their indices of x along the second axis, ignoring NaNs."
   ]
  },
  {
   "cell_type": "code",
   "execution_count": 115,
   "metadata": {},
   "outputs": [
    {
     "name": "stdout",
     "output_type": "stream",
     "text": [
      "[[nan  4.  3.]\n",
      " [ 3. -2. nan]]\n",
      "ЗНАЧЕНИЯ элементов:\n",
      "[ 3. -2.]\n",
      "[4. 3.]\n",
      "ИНДЕКСЫ элементов:\n",
      "[2 1]\n",
      "[1 0]\n"
     ]
    }
   ],
   "source": [
    "x = np.array([[np.nan, 4, 3], [3, -2, np.nan]])\n",
    "print(x)\n",
    "'''\n",
    "ниже ИГНОРИРУЮТСЯ nan-значения массива x\n",
    "'''\n",
    "print('ЗНАЧЕНИЯ элементов:')\n",
    "print(np.nanmin(x,axis=1)) # выводит ЗНАЧЕНИЯ наименьших элементов каждой строки (если axis=1) в одном массиве, игнорируя nan-значения\n",
    "print(np.nanmax(x,axis=1)) # выводит ЗНАЧЕНИЯ наибольших каждой строки (если axis=1) в одном массиве, игнорируя nan-значения\n",
    "print('ИНДЕКСЫ элементов:')\n",
    "print(np.nanargmin(x,axis=1)) # выводит ИНДЕКСЫ наименьших элементов каждой строки (если axis=1) в одном массиве, игнорируя nan-значения\n",
    "print(np.nanargmax(x,axis=1)) # выводит ИНДЕКСЫ наибольших каждой строки (если axis=1) в одном массиве, игнорируя nan-значения"
   ]
  },
  {
   "cell_type": "markdown",
   "metadata": {},
   "source": [
    "Q8. Get the `values` and `indices` of the elements that are `bigger` than `2` in x.\n"
   ]
  },
  {
   "cell_type": "code",
   "execution_count": 134,
   "metadata": {},
   "outputs": [
    {
     "name": "stdout",
     "output_type": "stream",
     "text": [
      "[[1 2 3]\n",
      " [1 3 5]]\n",
      "Значения, которые больше 2-х: [3 3 5]\n",
      "Их индексы: (array([0, 1, 1], dtype=int64), array([2, 1, 2], dtype=int64))\n"
     ]
    }
   ],
   "source": [
    "x = np.array([[1, 2, 3], [1, 3, 5]])\n",
    "'''\n",
    "numpy.nonzero(a)\n",
    "грубо говоря выводит кортеж разнесенных координат найденых чисел: так например,\n",
    "у первой тройки координаты (0,2) (т.е. располож в 1-ой строке и 3-ем столбце),\n",
    "у второй тройки координаты (1,1) (т.е. располож во 2-ой строке и 2-ом столбце),\n",
    "у пятерки координаты (1,2) (т.е. располож во 2-ой строке и 3-ем столбце).\n",
    "Эти значения координат разнесены по разным массивам (разделение по осям)\n",
    "'''\n",
    "print(x)\n",
    "print('Значения, которые больше 2-х: {}'.format(x[x>2]))\n",
    "print( 'Их индексы: {}'.format(np.nonzero(x>2)) )"
   ]
  },
  {
   "cell_type": "markdown",
   "metadata": {},
   "source": [
    "Q9. Get the `indices` of the elements that are `bigger` than `2` in the `flattend x`."
   ]
  },
  {
   "cell_type": "code",
   "execution_count": 136,
   "metadata": {},
   "outputs": [
    {
     "data": {
      "text/plain": [
       "array([2, 4, 5], dtype=int64)"
      ]
     },
     "execution_count": 136,
     "metadata": {},
     "output_type": "execute_result"
    }
   ],
   "source": [
    "x = np.array([[1, 2, 3], [1, 3, 5]])\n",
    "np.flatnonzero(x>2) # возвращает индексы ненулевых элементов в сжатом до одной оси представлении указанного массива"
   ]
  },
  {
   "cell_type": "markdown",
   "metadata": {},
   "source": [
    "Q10. Check the `elements` of x and return `0` if it is `less than 0`, otherwise `the element itself`."
   ]
  },
  {
   "cell_type": "code",
   "execution_count": 142,
   "metadata": {},
   "outputs": [
    {
     "data": {
      "text/plain": [
       "array([[0, 0, 0],\n",
       "       [0, 0, 0],\n",
       "       [1, 2, 3]])"
      ]
     },
     "execution_count": 142,
     "metadata": {},
     "output_type": "execute_result"
    }
   ],
   "source": [
    "x = np.arange(-5, 4).reshape(3, 3)\n",
    "np.where(x<0, 0, x) # сравнивает эл-ты с 0 и выдает 0 если True, иначе само число"
   ]
  },
  {
   "cell_type": "markdown",
   "metadata": {},
   "source": [
    "Q11. Get the `indices` where elements of `y` should `be inserted` to x to `maintain order`."
   ]
  },
  {
   "cell_type": "code",
   "execution_count": 146,
   "metadata": {},
   "outputs": [
    {
     "data": {
      "text/plain": [
       "array([0, 2, 1, 3], dtype=int64)"
      ]
     },
     "execution_count": 146,
     "metadata": {},
     "output_type": "execute_result"
    }
   ],
   "source": [
    "x = [1, 3, 5, 7, 9]\n",
    "y = [0, 4, 2, 6]\n",
    "np.searchsorted(x, y) # возвращает индексы в которые должны быть вставлены элементы y, что бы порядок сортировки был сохранен"
   ]
  },
  {
   "cell_type": "markdown",
   "metadata": {},
   "source": [
    "## Counting"
   ]
  },
  {
   "cell_type": "markdown",
   "metadata": {},
   "source": [
    "Q12. Get the number of nonzero elements in x."
   ]
  },
  {
   "cell_type": "code",
   "execution_count": 148,
   "metadata": {},
   "outputs": [
    {
     "data": {
      "text/plain": [
       "5"
      ]
     },
     "execution_count": 148,
     "metadata": {},
     "output_type": "execute_result"
    }
   ],
   "source": [
    "x = [[0,1,7,0,0],[3,0,0,2,19]]\n",
    "np.count_nonzero(x) # возвращает количество ненулевых элементов массива вдоль указанной оси (если ось не указана, идет расчет по сжатому до 1 оси массиву)"
   ]
  }
 ],
 "metadata": {
  "kernelspec": {
   "display_name": "Python 3",
   "language": "python",
   "name": "python3"
  },
  "language_info": {
   "codemirror_mode": {
    "name": "ipython",
    "version": 3
   },
   "file_extension": ".py",
   "mimetype": "text/x-python",
   "name": "python",
   "nbconvert_exporter": "python",
   "pygments_lexer": "ipython3",
   "version": "3.7.7"
  },
  "toc": {
   "base_numbering": 1,
   "nav_menu": {},
   "number_sections": true,
   "sideBar": true,
   "skip_h1_title": false,
   "title_cell": "",
   "title_sidebar": "Навигация",
   "toc_cell": false,
   "toc_position": {},
   "toc_section_display": true,
   "toc_window_display": true
  }
 },
 "nbformat": 4,
 "nbformat_minor": 1
}
